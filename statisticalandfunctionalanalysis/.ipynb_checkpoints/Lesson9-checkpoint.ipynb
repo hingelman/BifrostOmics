{
 "cells": [
  {
   "cell_type": "markdown",
   "id": "622032d8-d0e2-44e8-964c-2638d5850afb",
   "metadata": {},
   "source": [
    "Lesson 9: DE Analysis and Visualization\n",
    "\n",
    "Now that you have a dds object, we'll:\n",
    "\n",
    "Run differential expression\n",
    "\n",
    "Explore results\n",
    "\n",
    "Make plots:\n",
    "\n",
    "Volcano plot\n",
    "\n",
    "PCA plot"
   ]
  },
  {
   "cell_type": "code",
   "execution_count": null,
   "id": "db83bc7a-f98e-47f6-9631-285f65ff57c2",
   "metadata": {},
   "outputs": [],
   "source": [
    "#0 Check available levels\n",
    "levels(dds$physiological_state)"
   ]
  },
  {
   "cell_type": "code",
   "execution_count": null,
   "id": "24dc7076-13af-49ff-8439-9ef5032fc513",
   "metadata": {},
   "outputs": [],
   "source": [
    "#✅ 1. Run DESeq and  extract results for a specific comparison:\n",
    "# Example: compare UT2_D1nonSS vs UT2_D0.5\n",
    "res_UT2_D1nonSS <- results(dds, contrast = c(\"physiological_state\", \"UT2_D1nonSS\", \"UT2_D0.5\"))\n",
    "summary(res_UT2_D1nonSS)\n",
    "\n",
    "\n",
    "#You can repeat this for other conditions by changing \"UT2_D1nonSS\" to the condition of interest."
   ]
  },
  {
   "cell_type": "code",
   "execution_count": null,
   "id": "35c41910-2771-4555-994e-cf66063bdc71",
   "metadata": {},
   "outputs": [],
   "source": [
    "# 2. Volcano plot\n",
    "#Install the EnhancedVolcano package if not yet installed:\n",
    "\n",
    "\n",
    "if (!requireNamespace(\"EnhancedVolcano\", quietly = TRUE))\n",
    "    BiocManager::install(\"EnhancedVolcano\")\n",
    "library(EnhancedVolcano)\n",
    "\n",
    "#Then plot:\n",
    "# Save to PDF\n",
    "pdf(\"volcano_UT2_D1nonSSvsUT2_D05.pdf\")\n",
    "EnhancedVolcano(res_UT2_D1nonSS,\n",
    "    lab = rownames(res_UT2_D1nonSS),\n",
    "    x = \"log2FoldChange\",\n",
    "    y = \"pvalue\",\n",
    "    pCutoff = 0.05,\n",
    "    FCcutoff = 1.0,\n",
    "    title = \"UT2_D1nonSS vs UT2_D0.5\",\n",
    "    subtitle = \"Volcano plot of differential expression\")\n",
    "dev.off()\n",
    "\n",
    "\n",
    "\n",
    "#You can repeat this for other conditions by changing \"volcano_UT2_D1nonSSvsUT2_D05.pdf\" \n",
    "#and \"res_UT2_D1nonSS\" and \"UT2_D1nonSS vs UT2_D0.5\"to the condition of interest.\n"
   ]
  },
  {
   "cell_type": "code",
   "execution_count": null,
   "id": "85bf7c42-77ca-4000-a941-b79dde78a966",
   "metadata": {},
   "outputs": [],
   "source": [
    "#Step 3: PCA plot\n",
    "vsd <- vst(dds, blind = TRUE)\n",
    "\n",
    "pcaData <- plotPCA(vsd, intgroup = \"physiological_state\", returnData = TRUE)\n",
    "percentVar <- round(100 * attr(pcaData, \"percentVar\"))\n",
    "\n",
    "ggplot(pcaData, aes(PC1, PC2, color = physiological_state)) +\n",
    "  geom_point(size = 4) +\n",
    "  xlab(paste0(\"PC1: \", percentVar[1], \"% variance\")) +\n",
    "  ylab(paste0(\"PC2: \", percentVar[2], \"% variance\")) +\n",
    "  coord_fixed() +\n",
    "  theme_minimal()\n",
    "\n",
    "\n",
    "\n",
    "#The error :\n",
    "#\"Error in vst(dds, blind = TRUE) : less than 'nsub' rows, it is recommended to use varianceStabilizingTransformation directly\n",
    "#means your count matrix (genes x samples) is smaller than the default minimum number of rows (nsub) expected by vst() for its internal gene selection step. This can happen if you have very few genes.\"\n",
    "\n",
    "#Use varianceStabilizingTransformation() instead of vst() as recommended:\n",
    "vsd <- varianceStabilizingTransformation(dds, blind = TRUE)\n",
    "\n",
    "#and then PCA + using pdf() or png() device to capture plot:\n",
    "png(\"PCA_plot.png\", width=1200, height=900)\n",
    "print(\n",
    "  ggplot(pcaData, aes(PC1, PC2, color = physiological_state)) +\n",
    "    geom_point(size = 4) +\n",
    "    xlab(paste0(\"PC1: \", percentVar[1], \"% variance\")) +\n",
    "    ylab(paste0(\"PC2: \", percentVar[2], \"% variance\")) +\n",
    "    coord_fixed() +\n",
    "    theme_minimal()\n",
    ")\n",
    "dev.off()"
   ]
  },
  {
   "cell_type": "code",
   "execution_count": null,
   "id": "f7671f4c-22e3-45db-9893-cb7608a205e7",
   "metadata": {},
   "outputs": [],
   "source": [
    "#Step 4: Export results\n",
    "res_UT2_D1nonSS_df <- as.data.frame(res_UT2_D1nonSS)\n",
    "write.csv(res_UT2_D1nonSS_df, \"statisticalandfunctionalanalysis/DEG_UT2_D1nonSSvsUT2_D05.csv\")\n",
    "\n",
    "\n",
    "\n",
    "#You can repeat this for other conditions by changing \"res_UT2_D1nonSS_df\" \n",
    "#and \"res_UT2_D1nonSS\" and \"/DEG_UT2_D1nonSSvsUT2_D05.csv\" to the condition of interest."
   ]
  }
 ],
 "metadata": {
  "kernelspec": {
   "display_name": "Python 3 (ipykernel)",
   "language": "python",
   "name": "python3"
  },
  "language_info": {
   "codemirror_mode": {
    "name": "ipython",
    "version": 3
   },
   "file_extension": ".py",
   "mimetype": "text/x-python",
   "name": "python",
   "nbconvert_exporter": "python",
   "pygments_lexer": "ipython3",
   "version": "3.10.17"
  }
 },
 "nbformat": 4,
 "nbformat_minor": 5
}
