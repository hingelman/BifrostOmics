{
 "cells": [
  {
   "cell_type": "code",
   "execution_count": null,
   "id": "db3a9794-2d80-4794-925e-0b7e062f57a6",
   "metadata": {},
   "outputs": [],
   "source": [
    "# RNA-seq Differential Expression Analysis\n",
    "\n",
    "## 1. Load Libraries\n",
    "!R\n",
    "library(DESeq2)\n",
    "library(tidyverse)\n",
    "library(EnhancedVolcano)\n",
    "library(ggplot2)\n"
   ]
  },
  {
   "cell_type": "code",
   "execution_count": null,
   "id": "ecff4fa4-4e0a-4a2f-ac0d-4a6599f63751",
   "metadata": {},
   "outputs": [],
   "source": []
  }
 ],
 "metadata": {
  "kernelspec": {
   "display_name": "Python 3 (ipykernel)",
   "language": "python",
   "name": "python3"
  },
  "language_info": {
   "codemirror_mode": {
    "name": "ipython",
    "version": 3
   },
   "file_extension": ".py",
   "mimetype": "text/x-python",
   "name": "python",
   "nbconvert_exporter": "python",
   "pygments_lexer": "ipython3",
   "version": "3.10.17"
  }
 },
 "nbformat": 4,
 "nbformat_minor": 5
}
