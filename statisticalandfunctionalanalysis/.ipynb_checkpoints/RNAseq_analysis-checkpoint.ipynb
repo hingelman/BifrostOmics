{
 "cells": [
  {
   "cell_type": "code",
   "execution_count": null,
   "id": "b1b7a642-bee1-4ae4-a7be-a1c6a10139f0",
   "metadata": {},
   "outputs": [],
   "source": [
    "# RNA-seq Differential Expression Analysis"
   ]
  },
  {
   "cell_type": "code",
   "execution_count": null,
   "id": "50035e01-2f1b-4517-83f7-d85a413fa001",
   "metadata": {},
   "outputs": [],
   "source": [
    "## 1. Load Libraries\n",
    "R\n",
    "library(DESeq2)\n",
    "library(tidyverse)\n",
    "library(EnhancedVolcano)\n",
    "library(ggplot2)\n",
    "library(dplyr)"
   ]
  },
  {
   "cell_type": "code",
   "execution_count": null,
   "id": "9ef0a577-dc73-4b1c-9250-6aefb6addd79",
   "metadata": {},
   "outputs": [],
   "source": [
    "## 2. Load Input Files\n",
    "## gene_counts.txt\n",
    "## runinfo.csv\n",
    "# delete first row if the .txt file if you get an error\n",
    "counts <- read_tsv(\"gene_counts.txt\", comment = \"#\") %>%\n",
    "  select(-Chr, -Start, -End, -Strand, -Length) %>%\n",
    "  column_to_rownames(\"Geneid\")\n",
    "\n",
    "colnames(counts) <- gsub(\".sorted.bam\", \"\", colnames(counts))\n",
    "colnames(counts) <- gsub(\"alignments.\", \"\", colnames(counts))\n",
    "\n",
    "# Load the runinfo.csv file\n",
    "coldata <- read.csv(\"runinfo.csv\", row.names = 1)\n",
    "\n",
    "# to check if the sample names match\n",
    "colnames(counts)\n",
    "rownames(coldata)\n",
    "all(colnames(counts) %in% rownames(coldata))\n",
    "\n",
    "#If this returns TRUE, you're ready to create a DESeq2 object."
   ]
  },
  {
   "cell_type": "code",
   "execution_count": null,
   "id": "d0f8df10-b28f-4ca3-82f6-de9ce1e26269",
   "metadata": {},
   "outputs": [],
   "source": [
    "## 3. Make DESeqDataSet & set reference\n",
    "#Adjust \"physiological_state\" to your actual column name (e.g., \"conditione\" or \"treatment\") - aka your metadata column has a different name, update it accordingly...\n",
    "\n",
    "dds <- DESeqDataSetFromMatrix(countData = counts,\n",
    "                              colData = coldata,\n",
    "                              design = ~ physiological_state)\n",
    "\n",
    "# Set reference level BEFORE calling DESeq\n",
    "dds$physiological_state <- relevel(dds$physiological_state, ref = \"UT2_D0.5\")\n",
    "\n",
    "# Filter out low-count genes and normalize the data\n",
    "dds <- dds[rowSums(counts(dds)) > 10, ]\n",
    "dds <- DESeq(dds)\n",
    "\n",
    "#Check conditions:\n",
    "levels(dds$physiological_state)"
   ]
  },
  {
   "cell_type": "code",
   "execution_count": null,
   "id": "ecff4fa4-4e0a-4a2f-ac0d-4a6599f63751",
   "metadata": {},
   "outputs": [],
   "source": [
    "## 4. Run DESeq and  generate volcano plots + csv files of all the comparisons - everything against reference and all the other combinations aswell.\n",
    "source(\"generate_volcanos.R\")"
   ]
  },
  {
   "cell_type": "code",
   "execution_count": null,
   "id": "3cd8235a-4671-4dd1-9684-dfbab8c962cc",
   "metadata": {},
   "outputs": [],
   "source": [
    "## 5. Generate PCA plot\n",
    "vsd <- varianceStabilizingTransformation(dds, blind = TRUE)\n",
    "pcaData <- plotPCA(vsd, intgroup = \"physiological_state\", returnData = TRUE)\n",
    "percentVar <- round(100 * attr(pcaData, \"percentVar\"))\n",
    "\n",
    "png(\"PCA_plot.png\", width=1200, height=900)\n",
    "print(\n",
    "ggplot(pcaData, aes(PC1, PC2, color = physiological_state)) +\n",
    "  geom_point(size = 4) +\n",
    "  xlab(paste0(\"PC1: \", percentVar[1], \"% variance\")) +\n",
    "  ylab(paste0(\"PC2: \", percentVar[2], \"% variance\")) +\n",
    "  coord_fixed() +\n",
    "  theme_minimal()\n",
    "    )\n",
    "dev.off()"
   ]
  },
  {
   "cell_type": "code",
   "execution_count": null,
   "id": "733c34ec-7d82-4eee-ade8-59f060c9b423",
   "metadata": {},
   "outputs": [],
   "source": [
    "# Optional: Save normalized counts\n",
    "norm_counts <- counts(dds, normalized=TRUE)\n",
    "write.csv(norm_counts, \"normalized_counts.csv\")"
   ]
  },
  {
   "cell_type": "code",
   "execution_count": null,
   "id": "9b8c1944-b816-4bb8-8c0f-322b57da2cf5",
   "metadata": {},
   "outputs": [],
   "source": [
    "## 6. significant_DE_genes \n",
    "source(\"extract_sig_genes.R\")"
   ]
  }
 ],
 "metadata": {
  "kernelspec": {
   "display_name": "Python 3 (ipykernel)",
   "language": "python",
   "name": "python3"
  },
  "language_info": {
   "codemirror_mode": {
    "name": "ipython",
    "version": 3
   },
   "file_extension": ".py",
   "mimetype": "text/x-python",
   "name": "python",
   "nbconvert_exporter": "python",
   "pygments_lexer": "ipython3",
   "version": "3.10.17"
  }
 },
 "nbformat": 4,
 "nbformat_minor": 5
}
