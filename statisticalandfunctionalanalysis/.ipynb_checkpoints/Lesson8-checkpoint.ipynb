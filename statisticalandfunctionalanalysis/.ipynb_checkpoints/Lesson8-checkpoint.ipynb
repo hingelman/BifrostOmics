{
 "cells": [
  {
   "cell_type": "markdown",
   "id": "8edd7e0d-06d7-4369-8bfd-531b01e5dcd9",
   "metadata": {},
   "source": [
    "✅ Step-by-step: Load & Normalize Count Data in R\n",
    "1. Start R or RStudio\n",
    "In terminal:"
   ]
  },
  {
   "cell_type": "code",
   "execution_count": null,
   "id": "36a2cdb0-5525-4bd6-a370-191fae0bc003",
   "metadata": {},
   "outputs": [],
   "source": [
    "Some R tips/commands:\n",
    "# Check current working directory\n",
    "getwd()\n",
    "\n",
    "# Change directory \n",
    "# Use forward slashes (/) even on Windows\n",
    "setwd(\"/path/to/your/folder\")\n",
    "\n",
    "# For example:\n",
    "setwd(\"/home/hingelman/BifrostOmics\")\n",
    "\n",
    "# List files in current directory\n",
    "list.files()\n",
    "\n",
    "# Go up one directory level\n",
    "setwd(\"..\")\n",
    "\n",
    "# Exit R\n",
    "quit()  # or just q()\n",
    "\n",
    "# When exiting, R will ask if you want to save workspace\n",
    "# Usually type 'n' to not save unless you specifically need to save"
   ]
  },
  {
   "cell_type": "code",
   "execution_count": null,
   "id": "76ce4850-1164-4e0b-ad28-79fa88692210",
   "metadata": {},
   "outputs": [],
   "source": [
    "R\n",
    "\n",
    "if (!requireNamespace(\"BiocManager\", quietly = TRUE))\n",
    "    install.packages(\"BiocManager\")\n",
    "\n",
    "BiocManager::install(\"DESeq2\")\n",
    "install.packages(\"tidyverse\")\n",
    "\n",
    "library(DESeq2)\n",
    "library(tidyverse)"
   ]
  },
  {
   "cell_type": "markdown",
   "id": "16b374e9-2858-41e8-9798-7053ccc84358",
   "metadata": {},
   "source": [
    "From previous work:\n",
    "BifrostOmics\\statisticalandfunctionalanalysis\\fromweek1\n",
    "following files:\n",
    "gene_counts.txt\n",
    "gene_counts.txt.summary\n",
    "runinfo.csv"
   ]
  },
  {
   "cell_type": "code",
   "execution_count": null,
   "id": "750bb7de-e266-460b-826d-1cfffffb0524",
   "metadata": {},
   "outputs": [],
   "source": [
    "# Load full table\n",
    "counts_full <- read.delim(\"statisticalandfunctionalanalysis/fromweek1/gene_counts.txt\")\n",
    "\n",
    "# Keep Geneid and the last columns (count data)\n",
    "counts <- counts_full[, c(1, 7, 8, 9, 10, 11, 12, 13, 14, 15, 16, 17, 18, 19, 20, 21)]\n",
    "\n",
    "# Set Geneid as rownames and remove the Geneid column\n",
    "rownames(counts) <- counts$Geneid\n",
    "counts$Geneid <- NULL\n",
    "\n",
    "# Load the runinfo.csv file\n",
    "coldata <- read.csv(\"statisticalandfunctionalanalysis/fromweek1/runinfo.csv\", row.names = 1)\n",
    "\n",
    "# to check if the sample names match\n",
    "colnames(counts)\n",
    "rownames(coldata)\n",
    "\n",
    "# Clean up the column names\n",
    "colnames(counts) <- gsub(\".sorted.bam\", \"\", colnames(counts))\n",
    "colnames(counts) <- gsub(\"alignments.\", \"\", colnames(counts))\n",
    "\n",
    "# Check if names match now\n",
    "all(colnames(counts) %in% rownames(coldata))\n",
    "\n",
    "#If this returns TRUE, you're ready to create a DESeq2 object.\n",
    "\n"
   ]
  },
  {
   "cell_type": "code",
   "execution_count": null,
   "id": "8ca65fdc-6a45-4cc3-99bf-beea8241bbdb",
   "metadata": {},
   "outputs": [],
   "source": [
    "#4. Make DESeqDataSet & set reference\n",
    "#Adjust \"physiological_state\" to your actual column name (e.g., \"conditione\" or \"treatment\") - aka your metadata column has a different name, update it accordingly...\n",
    "\n",
    "dds <- DESeqDataSetFromMatrix(countData = counts,\n",
    "                              colData = coldata,\n",
    "                              design = ~ physiological_state)\n",
    "\n",
    "# Set reference level BEFORE calling DESeq\n",
    "dds$physiological_state <- relevel(dds$physiological_state, ref = \"UT2_D0.5\")\n",
    "\n",
    "\n",
    "#5. Filter out low-count genes\n",
    "dds <- dds[rowSums(counts(dds)) > 10, ]\n",
    "\n",
    "\n",
    "\n",
    "#6. Normalize the data\n",
    "dds <- DESeq(dds)\n",
    "\n",
    "# Optional: Save normalized counts\n",
    "norm_counts <- counts(dds, normalized=TRUE)\n",
    "write.csv(norm_counts, \"statisticalandfunctionalanalysis/normalized_counts.csv\")\n"
   ]
  }
 ],
 "metadata": {
  "kernelspec": {
   "display_name": "bioinformaatika0",
   "language": "python",
   "name": "bioinformaatika0"
  },
  "language_info": {
   "codemirror_mode": {
    "name": "ipython",
    "version": 3
   },
   "file_extension": ".py",
   "mimetype": "text/x-python",
   "name": "python",
   "nbconvert_exporter": "python",
   "pygments_lexer": "ipython3",
   "version": "3.10.17"
  }
 },
 "nbformat": 4,
 "nbformat_minor": 5
}
