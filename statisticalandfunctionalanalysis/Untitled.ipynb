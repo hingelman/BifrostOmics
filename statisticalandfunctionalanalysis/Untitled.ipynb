{
 "cells": [
  {
   "cell_type": "code",
   "execution_count": null,
   "id": "1ca5e9a1-587d-4ad3-9461-aee6a742d8bf",
   "metadata": {},
   "outputs": [],
   "source": [
    " Lesson 11: Annotate DE genes with clusterProfiler (GO, KEGG)\n",
    "\n",
    "Goal:\n",
    "Use clusterProfiler to assign biological meaning to your differentially expressed genes via:\n",
    "Gene Ontology (GO) enrichment\n",
    "KEGG pathway enrichment\n",
    "\n"
   ]
  },
  {
   "cell_type": "code",
   "execution_count": null,
   "id": "a2af0815-7a17-4845-9f48-dba4898ff10d",
   "metadata": {},
   "outputs": [],
   "source": [
    "if (!requireNamespace(\"BiocManager\", quietly = TRUE))\n",
    "    install.packages(\"BiocManager\")\n",
    "\n",
    "BiocManager::install(\"enrichplot\")"
   ]
  },
  {
   "cell_type": "code",
   "execution_count": null,
   "id": "5ef51f91-aef0-493e-897a-12132fcf992d",
   "metadata": {},
   "outputs": [],
   "source": []
  }
 ],
 "metadata": {
  "kernelspec": {
   "display_name": "Python 3 (ipykernel)",
   "language": "python",
   "name": "python3"
  },
  "language_info": {
   "codemirror_mode": {
    "name": "ipython",
    "version": 3
   },
   "file_extension": ".py",
   "mimetype": "text/x-python",
   "name": "python",
   "nbconvert_exporter": "python",
   "pygments_lexer": "ipython3",
   "version": "3.10.17"
  }
 },
 "nbformat": 4,
 "nbformat_minor": 5
}
