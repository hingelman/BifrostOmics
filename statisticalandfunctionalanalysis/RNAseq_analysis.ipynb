{
 "cells": [
  {
   "cell_type": "code",
   "execution_count": null,
   "id": "db3a9794-2d80-4794-925e-0b7e062f57a6",
   "metadata": {},
   "outputs": [],
   "source": [
    "# RNA-seq Differential Expression Analysis\n",
    "\n",
    "## 1. Load Libraries\n",
    "R\n",
    "library(DESeq2)\n",
    "library(tidyverse)\n",
    "library(EnhancedVolcano)\n",
    "library(ggplot2)\n",
    "\n",
    "## 2. Load Input Files\n",
    "## gene_counts.txt\n",
    "## runinfo.csv\n",
    "# delete first row if the .txt file if you get an error\n",
    "counts_full <- read.delim(\"statisticalandfunctionalanalysis/fromweek1/gene_counts.txt\")\n",
    "\n",
    "# Keep Geneid and the last columns (15 samples in this example - columns 7 to 21)\n",
    "counts <- counts_full[, c(1, 7, 8, 9, 10, 11, 12, 13, 14, 15, 16, 17, 18, 19, 20, 21)]\n",
    "\n",
    "# Set Geneid as rownames and remove the Geneid column\n",
    "rownames(counts) <- counts$Geneid\n",
    "counts$Geneid <- NULL\n",
    "\n",
    "# Load the runinfo.csv file\n",
    "coldata <- read.csv(\"statisticalandfunctionalanalysis/fromweek1/runinfo.csv\", row.names = 1)\n",
    "\n",
    "# to check if the sample names match\n",
    "colnames(counts)\n",
    "rownames(coldata)\n",
    "\n",
    "# Clean up the column names\n",
    "colnames(counts) <- gsub(\".sorted.bam\", \"\", colnames(counts))\n",
    "colnames(counts) <- gsub(\"alignments.\", \"\", colnames(counts))\n",
    "\n",
    "# Check if names match now\n",
    "all(colnames(counts) %in% rownames(coldata))\n",
    "\n",
    "#If this returns TRUE, you're ready to create a DESeq2 object."
   ]
  },
  {
   "cell_type": "code",
   "execution_count": null,
   "id": "ecff4fa4-4e0a-4a2f-ac0d-4a6599f63751",
   "metadata": {},
   "outputs": [],
   "source": []
  },
  {
   "cell_type": "code",
   "execution_count": null,
   "id": "5b96d847-727c-45ab-970b-c717fbe3d088",
   "metadata": {},
   "outputs": [],
   "source": []
  }
 ],
 "metadata": {
  "kernelspec": {
   "display_name": "Python 3 (ipykernel)",
   "language": "python",
   "name": "python3"
  },
  "language_info": {
   "codemirror_mode": {
    "name": "ipython",
    "version": 3
   },
   "file_extension": ".py",
   "mimetype": "text/x-python",
   "name": "python",
   "nbconvert_exporter": "python",
   "pygments_lexer": "ipython3",
   "version": "3.10.17"
  }
 },
 "nbformat": 4,
 "nbformat_minor": 5
}
