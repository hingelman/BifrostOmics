{
 "cells": [
  {
   "cell_type": "code",
   "execution_count": null,
   "id": "db3a9794-2d80-4794-925e-0b7e062f57a6",
   "metadata": {},
   "outputs": [],
   "source": [
    "# RNA-seq Differential Expression Analysis\n",
    "\n",
    "## 1. Load Libraries\n",
    "R\n",
    "library(DESeq2)\n",
    "library(tidyverse)\n",
    "library(EnhancedVolcano)\n",
    "library(ggplot2)\n",
    "\n",
    "## 2. Load Input Files\n",
    "## gene_counts.txt\n",
    "## runinfo.csv\n",
    "# delete first row if the .txt file if you get an error\n",
    "counts <- read_tsv(\"gene_counts.txt\", comment = \"#\") %>%\n",
    "  select(-Chr, -Start, -End, -Strand, -Length) %>%\n",
    "  column_to_rownames(\"Geneid\")\n",
    "\n",
    "colnames(counts) <- gsub(\".sorted.bam\", \"\", colnames(counts))\n",
    "colnames(counts) <- gsub(\"alignments.\", \"\", colnames(counts))\n",
    "\n",
    "# Load the runinfo.csv file\n",
    "coldata <- read.csv(\"runinfo.csv\", row.names = 1)\n",
    "\n",
    "# to check if the sample names match\n",
    "colnames(counts)\n",
    "rownames(coldata)\n",
    "all(colnames(counts) %in% rownames(coldata))\n",
    "\n",
    "#If this returns TRUE, you're ready to create a DESeq2 object.\n",
    "\n",
    "\n",
    "##3. Make DESeqDataSet & set reference\n",
    "#Adjust \"physiological_state\" to your actual column name (e.g., \"conditione\" or \"treatment\") - aka your metadata column has a different name, update it accordingly...\n",
    "\n",
    "dds <- DESeqDataSetFromMatrix(countData = counts,\n",
    "                              colData = coldata,\n",
    "                              design = ~ physiological_state)\n",
    "\n",
    "# Set reference level BEFORE calling DESeq\n",
    "dds$physiological_state <- relevel(dds$physiological_state, ref = \"UT2_D0.5\")\n",
    "\n",
    "# Filter out low-count genes and normalize the data\n",
    "dds <- dds[rowSums(counts(dds)) > 10, ]\n",
    "dds <- DESeq(dds)\n",
    "\n",
    "#Check conditions:\n",
    "levels(dds$physiological_state)"
   ]
  },
  {
   "cell_type": "code",
   "execution_count": null,
   "id": "ecff4fa4-4e0a-4a2f-ac0d-4a6599f63751",
   "metadata": {},
   "outputs": [],
   "source": [
    "#4. Run DESeq and  extract results for a specific comparison:\n",
    "# Example: compare UT2_D1nonSS vs UT2_D0.5\n",
    "res_UT2_D1nonSS <- results(dds, contrast = c(\"physiological_state\", \"UT2_D1nonSS\", \"UT2_D0.5\"))\n",
    "summary(res_UT2_D1nonSS)\n",
    "\n",
    "\n",
    "#You can repeat this for other conditions by changing \"UT2_D1nonSS\" to the condition of interest."
   ]
  },
  {
   "cell_type": "code",
   "execution_count": null,
   "id": "5b96d847-727c-45ab-970b-c717fbe3d088",
   "metadata": {},
   "outputs": [],
   "source": []
  }
 ],
 "metadata": {
  "kernelspec": {
   "display_name": "Python 3 (ipykernel)",
   "language": "python",
   "name": "python3"
  },
  "language_info": {
   "codemirror_mode": {
    "name": "ipython",
    "version": 3
   },
   "file_extension": ".py",
   "mimetype": "text/x-python",
   "name": "python",
   "nbconvert_exporter": "python",
   "pygments_lexer": "ipython3",
   "version": "3.10.17"
  }
 },
 "nbformat": 4,
 "nbformat_minor": 5
}
