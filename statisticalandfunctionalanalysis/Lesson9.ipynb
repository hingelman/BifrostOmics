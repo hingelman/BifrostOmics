{
 "cells": [
  {
   "cell_type": "markdown",
   "id": "622032d8-d0e2-44e8-964c-2638d5850afb",
   "metadata": {},
   "source": [
    "🎯 Goal\n",
    "Now that you have a dds object, we'll:\n",
    "\n",
    "Run differential expression\n",
    "\n",
    "Explore results\n",
    "\n",
    "Make plots:\n",
    "\n",
    "Volcano plot\n",
    "\n",
    "PCA plot"
   ]
  },
  {
   "cell_type": "code",
   "execution_count": null,
   "id": "066e88c4-7cd5-4532-b19b-8da5df65e161",
   "metadata": {},
   "outputs": [],
   "source": [
    "#✅ 1. Run DESeq and extract results\n",
    "#Since you already have the dds object:\n",
    "\n",
    "dds <- DESeq(dds)  # Already done — skip if already run\n",
    "res <- results(dds)\n",
    "summary(res)\n",
    "\n",
    "#To get log2 fold changes and p-values:\n",
    "resOrdered <- res[order(res$padj), ]  # Order by adjusted p-value\n",
    "head(resOrdered)"
   ]
  },
  {
   "cell_type": "code",
   "execution_count": null,
   "id": "35c41910-2771-4555-994e-cf66063bdc71",
   "metadata": {},
   "outputs": [],
   "source": [
    "# 2. Volcano plot\n",
    "#Install the EnhancedVolcano package if not yet installed:\n",
    "\n",
    "\n",
    "if (!requireNamespace(\"EnhancedVolcano\", quietly = TRUE))\n",
    "    BiocManager::install(\"EnhancedVolcano\")\n",
    "library(EnhancedVolcano)\n",
    "\n",
    "#Then plot:\n",
    "# Save to PDF\n",
    "pdf(\"volcano_plot.pdf\", width = 8, height = 6)\n",
    "EnhancedVolcano(res,\n",
    "    lab = rownames(res),\n",
    "    x = \"log2FoldChange\",\n",
    "    y = \"pvalue\",\n",
    "    pCutoff = 0.05,\n",
    "    FCcutoff = 1.0,\n",
    "    title = \"Volcano Plot\",\n",
    "    subtitle = \"sthh sth\")\n",
    "dev.off()"
   ]
  }
 ],
 "metadata": {
  "kernelspec": {
   "display_name": "Python 3 (ipykernel)",
   "language": "python",
   "name": "python3"
  },
  "language_info": {
   "codemirror_mode": {
    "name": "ipython",
    "version": 3
   },
   "file_extension": ".py",
   "mimetype": "text/x-python",
   "name": "python",
   "nbconvert_exporter": "python",
   "pygments_lexer": "ipython3",
   "version": "3.10.17"
  }
 },
 "nbformat": 4,
 "nbformat_minor": 5
}
