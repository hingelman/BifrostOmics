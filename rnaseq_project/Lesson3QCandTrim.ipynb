{
 "cells": [
  {
   "cell_type": "markdown",
   "id": "cf69c932-6bae-44ea-ba85-82a8d7be6797",
   "metadata": {
    "editable": true,
    "slideshow": {
     "slide_type": ""
    },
    "tags": []
   },
   "source": [
    "🧠 Goal of Lesson 3\n",
    "Assess the quality of your raw reads with FastQC\n",
    "\n",
    "Summarize results with MultiQC\n",
    "\n",
    "Trim adapters and low-quality sequences with fastp"
   ]
  },
  {
   "cell_type": "markdown",
   "id": "80e49d07-bfc5-48e9-bcd5-be82502f4c07",
   "metadata": {},
   "source": [
    "✅ 1. Quality Check with FastQC\n",
    "process all .sra files inside raw_data folder:"
   ]
  },
  {
   "cell_type": "code",
   "execution_count": null,
   "id": "2e8f6559-1b14-4888-8166-99b2c9416e60",
   "metadata": {},
   "outputs": [],
   "source": [
    "bash extract_all_fastq_parallel.sh"
   ]
  },
  {
   "cell_type": "markdown",
   "id": "f487c9d0-7b84-4370-bdd4-81d1a3453c87",
   "metadata": {},
   "source": [
    "✅ 2. Summarize with MultiQC\n",
    "Install MultiQC if not done yet:\n",
    "\n",
    "conda install -c bioconda multiqc\n",
    "\n",
    "Then run:"
   ]
  },
  {
   "cell_type": "markdown",
   "id": "a7011285-9dbc-45e1-8e96-41ade8941c74",
   "metadata": {},
   "source": [
    "cd ../fastqc_results\n",
    "multiqc ."
   ]
  },
  {
   "cell_type": "markdown",
   "id": "91011ad2-8e29-4b4f-bd3f-b16c45fe8b3b",
   "metadata": {},
   "source": [
    "This will generate an multiqc_report.html summarizing all FastQC results. Open it with:"
   ]
  },
  {
   "cell_type": "code",
   "execution_count": null,
   "id": "267708ab-cda4-4525-84f5-3987450bf694",
   "metadata": {},
   "outputs": [],
   "source": []
  },
  {
   "cell_type": "code",
   "execution_count": null,
   "id": "21329d1a-4e62-436a-9289-a1a0229d1bfc",
   "metadata": {},
   "outputs": [],
   "source": [
    "to monitor procceses:\n",
    " while true; do date -u \"+%Y-%m-%d %H:%M:%S\"; echo \"User: $USER\"; echo \"----------------------------------------\"; ps aux | grep -E \"fasterq-dump|pigz|gzip\" | grep -v \"grep\"; echo; sleep 30; done"
   ]
  }
 ],
 "metadata": {
  "kernelspec": {
   "display_name": "Python 3 (ipykernel)",
   "language": "python",
   "name": "python3"
  },
  "language_info": {
   "codemirror_mode": {
    "name": "ipython",
    "version": 3
   },
   "file_extension": ".py",
   "mimetype": "text/x-python",
   "name": "python",
   "nbconvert_exporter": "python",
   "pygments_lexer": "ipython3",
   "version": "3.10.17"
  }
 },
 "nbformat": 4,
 "nbformat_minor": 5
}
