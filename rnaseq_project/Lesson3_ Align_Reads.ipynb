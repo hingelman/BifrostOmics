{
 "cells": [
  {
   "cell_type": "markdown",
   "id": "d496ce95-b3c5-4b37-908f-96d5287263e7",
   "metadata": {},
   "source": [
    "🧬 Lesson 3: Align Reads to Genome with HISAT2\n",
    "\n",
    "✅ 1. Identify your organism\n",
    "You can:\n",
    "\n",
    "Look at your runinfo.csv or SRA metadata (check the “ScientificName” column).\n",
    "\n",
    "Or run this command on an SRR file to extract metadata:"
   ]
  },
  {
   "cell_type": "code",
   "execution_count": null,
   "id": "299a2987-a732-472a-86e9-012a593cb4cc",
   "metadata": {},
   "outputs": [],
   "source": [
    "esearch -db sra -query SRRXXXXX | efetch -format docsum | xtract -pattern DocumentSummary -element Title,Organism"
   ]
  },
  {
   "cell_type": "code",
   "execution_count": null,
   "id": "df5214c4-e6b5-40b8-9424-2f4012b8bcbc",
   "metadata": {},
   "outputs": [],
   "source": [
    "Its Clostridium autoethanogenum in our case"
   ]
  },
  {
   "cell_type": "markdown",
   "id": "433b610b-ca02-4235-8697-61d19d1126ba",
   "metadata": {},
   "source": [
    "✅ 2. Choose the correct genome source\n",
    "Most reference genomes and annotations come from one of the following:\n",
    "\n",
    "Resource\t            Use if your organism is...\n",
    "Ensembl\t                Eukaryotic model organisms\n",
    "NCBI Genome \t        Most organisms, including bacteria\n",
    "UCSC Genome Browser \tModel eukaryotes\n",
    "RefSeq (NCBI)\t        Common reference source, especially for viruses and prokaryotes"
   ]
  },
  {
   "cell_type": "markdown",
   "id": "a40c6590-7160-46b3-82b1-92ea205be4aa",
   "metadata": {},
   "source": [
    "For NCBI Genomes:\n",
    "\n",
    "Visit: https://www.ncbi.nlm.nih.gov/genome\n",
    "\n",
    "Search your organism name.\n",
    "\n",
    "Choose the latest RefSeq assembly.\n",
    "\n",
    "Look under “Download the GenBank/FASTA/GTF files”.\n",
    "\n",
    "Example for Bacillus subtilis:"
   ]
  },
  {
   "cell_type": "code",
   "execution_count": null,
   "id": "ee1425de-8929-4ff2-a352-f966a05c8e30",
   "metadata": {},
   "outputs": [],
   "source": [
    "# Example URL, you need to replace with your organism’s exact accession\n",
    "wget https://ftp.ncbi.nlm.nih.gov/genomes/all/GCF/000/009/045/GCF_000009045.1_ASM904v1/GCF_000009045.1_ASM904v1_genomic.fna.gz\n",
    "wget https://ftp.ncbi.nlm.nih.gov/genomes/all/GCF/000/009/045/GCF_000009045.1_ASM904v1/GCF_000009045.1_ASM904v1_genomic.gtf.gz"
   ]
  },
  {
   "cell_type": "code",
   "execution_count": null,
   "id": "386075c1-ea9a-415a-9668-f50cdfcc51fc",
   "metadata": {},
   "outputs": [],
   "source": []
  }
 ],
 "metadata": {
  "kernelspec": {
   "display_name": "Python 3 (ipykernel)",
   "language": "python",
   "name": "python3"
  },
  "language_info": {
   "codemirror_mode": {
    "name": "ipython",
    "version": 3
   },
   "file_extension": ".py",
   "mimetype": "text/x-python",
   "name": "python",
   "nbconvert_exporter": "python",
   "pygments_lexer": "ipython3",
   "version": "3.10.17"
  }
 },
 "nbformat": 4,
 "nbformat_minor": 5
}
