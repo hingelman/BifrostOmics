{
 "cells": [
  {
   "cell_type": "markdown",
   "id": "d496ce95-b3c5-4b37-908f-96d5287263e7",
   "metadata": {},
   "source": [
    "🧬 Lesson 3: Align Reads to Genome with HISAT2\n",
    "\n",
    "✅ 0. Identify your organism\n",
    "You can:\n",
    "Look at your runinfo.csv or SRA metadata (check the “ScientificName” column).\n",
    "Or run this command on an SRR file to extract metadata:"
   ]
  },
  {
   "cell_type": "code",
   "execution_count": null,
   "id": "299a2987-a732-472a-86e9-012a593cb4cc",
   "metadata": {},
   "outputs": [],
   "source": [
    "esearch -db sra -query SRRXXXXX | efetch -format docsum | xtract -pattern DocumentSummary -element Title,Organism"
   ]
  },
  {
   "cell_type": "markdown",
   "id": "624fe2eb-9b30-4e22-97d1-2c4fde97874c",
   "metadata": {},
   "source": [
    "Its Clostridium autoethanogenum in our case"
   ]
  },
  {
   "cell_type": "markdown",
   "id": "433b610b-ca02-4235-8697-61d19d1126ba",
   "metadata": {},
   "source": [
    "Choose the correct genome source. Most reference genomes and annotations come from one of the following:\n",
    "\n",
    "Resource\t            Use if your organism is...\n",
    "Ensembl\t                Eukaryotic model organisms\n",
    "NCBI Genome \t        Most organisms, including bacteria\n",
    "UCSC Genome Browser \tModel eukaryotes\n",
    "RefSeq (NCBI)\t        Common reference source, especially for viruses and prokaryotes"
   ]
  },
  {
   "cell_type": "markdown",
   "id": "a40c6590-7160-46b3-82b1-92ea205be4aa",
   "metadata": {},
   "source": [
    "For NCBI Genomes:\n",
    "\n",
    "Visit: https://www.ncbi.nlm.nih.gov/genome\n",
    "\n",
    "Search your organism name.\n",
    "\n",
    "Choose the latest RefSeq assembly.\n",
    "\n",
    "Look under “Download the GenBank/FASTA/GTF files”.\n",
    "\n",
    "Example for Bacillus subtilis:"
   ]
  },
  {
   "cell_type": "markdown",
   "id": "d95843ed-d20f-4f56-a4e2-10af78cd7343",
   "metadata": {},
   "source": [
    "✅ 1. Download Reference Genome and Annotation (GTF)\n",
    "\n",
    "# Create reference directory and enter it\n",
    "mkdir -p rnaseq_project/reference\n",
    "cd rnaseq_project/reference\n",
    "\n",
    "# Download genome FASTA and annotation GTF from NCBI\n",
    "wget https://ftp.ncbi.nlm.nih.gov/genomes/all/GCF/000/484/505/GCF_000484505.2_ASM48450v2/GCF_000484505.2_ASM48450v2_genomic.fna.gz\n",
    "wget https://ftp.ncbi.nlm.nih.gov/genomes/all/GCF/000/484/505/GCF_000484505.2_ASM48450v2/GCF_000484505.2_ASM48450v2_genomic.gff.gz\n",
    "\n",
    "# Unzip files\n",
    "gunzip GCF_000484505.2_ASM48450v2_genomic.fna.gz\n",
    "gunzip GCF_000484505.2_ASM48450v2_genomic.gff.gz\n",
    "\n",
    "🔁 Note: HISAT2 uses .gff or .gtf only for optional downstream tools like StringTie. For now, .gff is fine."
   ]
  },
  {
   "cell_type": "markdown",
   "id": "c9c9e4bb-3088-45fa-90ee-fab1218d38ff",
   "metadata": {},
   "source": [
    "✅ 2. Build HISAT2 Index\n",
    "Still inside rnaseq_project/reference run:"
   ]
  },
  {
   "cell_type": "code",
   "execution_count": null,
   "id": "e2886240-fbf1-404b-9d77-939d0ff0f609",
   "metadata": {},
   "outputs": [],
   "source": [
    "hisat2-build GCF_000484505.2_ASM48450v2_genomic.fna ca_index"
   ]
  },
  {
   "cell_type": "markdown",
   "id": "1d4a8961-2368-4457-9dbb-6648580a93e4",
   "metadata": {},
   "source": [
    "This creates index files: ca_index.1.ht2, ca_index.2.ht2, etc."
   ]
  },
  {
   "cell_type": "code",
   "execution_count": null,
   "id": "ea14996c-1bca-454c-baa1-467bbd3d8862",
   "metadata": {},
   "outputs": [],
   "source": [
    "✅ 3. Align Trimmed Reads to Genome\n",
    "\n",
    "Save the script below as:\n",
    "📄 rnaseq_project/align_all_trimmed_parallel.sh"
   ]
  },
  {
   "cell_type": "code",
   "execution_count": null,
   "id": "ebedb969-06ed-466d-abc2-5bf26315b200",
   "metadata": {},
   "outputs": [],
   "source": [
    "#!/bin/bash\n",
    "# File: align_all_trimmed_parallel.sh\n",
    "# Purpose: Align all paired-end trimmed FASTQ files in parallel using HISAT2 + samtools\n",
    "# Hardware: 4 cores, 8 threads total available\n",
    "\n",
    "mkdir -p bam_files\n",
    "\n",
    "# Function to align one sample\n",
    "align_sample() {\n",
    "    local sample=\"$1\"\n",
    "    local f1=\"trimmed_data/${sample}_1.trimmed.fastq.gz\"\n",
    "    local f2=\"trimmed_data/${sample}_2.trimmed.fastq.gz\"\n",
    "    local sam_out=\"bam_files/${sample}.sam\"\n",
    "    local bam_out=\"bam_files/${sample}.bam\"\n",
    "\n",
    "    echo \"Aligning $sample ...\"\n",
    "\n",
    "    # Use 6 threads for HISAT2 (leaving 2 threads for other processes)\n",
    "    hisat2 -x reference/ca_index \\\n",
    "           -1 \"$f1\" \\\n",
    "           -2 \"$f2\" \\\n",
    "           -p 6 \\\n",
    "           -S \"$sam_out\"\n",
    "\n",
    "    # Use 2 threads for samtools conversion\n",
    "    samtools view -@ 2 -S -b \"$sam_out\" > \"$bam_out\"\n",
    "    rm \"$sam_out\"\n",
    "}\n",
    "\n",
    "export -f align_sample\n",
    "\n",
    "# Get sample names and run in parallel\n",
    "# Run only 1 alignment at a time since HISAT2 will use 6 threads\n",
    "find trimmed_data -name \"*_1.trimmed.fastq.gz\" | sed 's/.*\\///; s/_1.trimmed.fastq.gz//' | \\\n",
    "    parallel --jobs 1 --load 100% align_sample\n",
    "\n",
    "echo \"All alignments complete!\""
   ]
  },
  {
   "cell_type": "markdown",
   "id": "cd5e60c5-9315-498f-8c1b-facaaba2b8d5",
   "metadata": {},
   "source": [
    "Make it executable and run:"
   ]
  },
  {
   "cell_type": "code",
   "execution_count": null,
   "id": "63f5db24-df20-437b-a87d-372a94a36e32",
   "metadata": {},
   "outputs": [],
   "source": [
    "chmod +x align_all_trimmed_parallel.sh\n",
    "./align_all_trimmed_parallel.sh"
   ]
  },
  {
   "cell_type": "markdown",
   "id": "4bd026c3-f473-450c-9dc1-5cbb1341c692",
   "metadata": {},
   "source": [
    "Now reads are all aligned against the ref.\n",
    "////////////////////////////////////////////////////\n",
    "\n",
    "useful command (run in terminal) to monitor hisat2|samtools procceses:"
   ]
  },
  {
   "cell_type": "code",
   "execution_count": null,
   "id": "b5ac5e11-ddc6-4cb4-8335-c9bd278918f9",
   "metadata": {},
   "outputs": [],
   "source": [
    "while true; do date -u \"+%Y-%m-%d %H:%M:%S\"; echo \"User: $USER\"; echo \"----------------------------------------\"; ps aux | grep -E \"hisat2|samtools\" | grep -v \"grep\"; echo; sleep 30; done"
   ]
  }
 ],
 "metadata": {
  "kernelspec": {
   "display_name": "Python 3 (ipykernel)",
   "language": "python",
   "name": "python3"
  },
  "language_info": {
   "codemirror_mode": {
    "name": "ipython",
    "version": 3
   },
   "file_extension": ".py",
   "mimetype": "text/x-python",
   "name": "python",
   "nbconvert_exporter": "python",
   "pygments_lexer": "ipython3",
   "version": "3.10.17"
  }
 },
 "nbformat": 4,
 "nbformat_minor": 5
}
