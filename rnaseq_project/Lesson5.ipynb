{
 "cells": [
  {
   "cell_type": "markdown",
   "id": "a1885383-cdd2-440d-87b5-e91ab743a802",
   "metadata": {},
   "source": [
    "🎯 A Bash script that runs your RNA-seq pipeline from raw files to read counts\n",
    "\n",
    "All the following are now integrated into a single unified pipeline (rnaseq_pipeline.sh):\n",
    "Download .sra files using runinfo.csv\n",
    "Extract FASTQ from .sra files with fasterq-dump + gzip via pigz (parallelized)\n",
    "Run FastQC + MultiQC\n",
    "Trim reads with fastp (parallelized)\n",
    "Build HISAT2 index if not found\n",
    "Align reads with HISAT2 + sort/index BAM with samtools (resource-balanced)\n",
    "Count reads with featureCounts, resulting in a gene count matrix \n",
    "\n",
    "\n",
    "🧠 Assumptions and readme:\n",
    "0. Conda env bioinformaatika0 active\n",
    "1. Structure your folders like this:\n",
    "rnaseq_project/\n",
    "├── reference/\n",
    "│   ├── genome.fna\n",
    "│   ├── annotations.gtf\n",
    "│   └── optional.gff\n",
    "├── raw_data/\n",
    "│   └── runinfo.csv\n",
    "└── rnaseq_pipeline.sh\n",
    "\n",
    "2. Place required files in reference/:\n",
    ".fna (reference genome)\n",
    ".gtf (annotation for featureCounts and alignment)\n",
    "Optional: .gff (not used by this script but can be stored)\n",
    "\n",
    "3. Create/have runinfo.csv in raw_data/:\n",
    "Download this from SRA Run Selector\n",
    "Must contain a header and Run column with SRR IDs\n",
    "\n",
    "4. Make the script executable:"
   ]
  },
  {
   "cell_type": "code",
   "execution_count": null,
   "id": "a918e3b3-f94f-44e6-8607-18a2eb8b38db",
   "metadata": {},
   "outputs": [],
   "source": [
    "chmod +x rnaseq_pipeline.sh"
   ]
  },
  {
   "cell_type": "markdown",
   "id": "7417f89c-73cb-46b3-891d-441cf454d994",
   "metadata": {},
   "source": [
    "5. Run the pipeline from the project root:"
   ]
  },
  {
   "cell_type": "markdown",
   "id": "9e1027d9-fb88-4c89-a1f8-08c2a44abfcf",
   "metadata": {},
   "source": [
    "./rnaseq_pipeline.sh"
   ]
  },
  {
   "cell_type": "code",
   "execution_count": null,
   "id": "97d71c21-1493-4329-8a4c-c4ddad370ab6",
   "metadata": {},
   "outputs": [],
   "source": [
    "#!/bin/bash\n",
    "# File: rnaseq_pipeline.sh\n",
    "# Location: rnaseq_project/ or any other name...\n",
    "# Master pipeline to automate RNA-seq preprocessing and alignment\n",
    "\n",
    "copy me here from \"test\" folder if done!!!"
   ]
  },
  {
   "cell_type": "markdown",
   "id": "72c01307-a7e5-4176-82e4-3f6a5d5ea3e7",
   "metadata": {},
   "source": [
    "To run the script - cd to root where the script and folders are and run it:"
   ]
  },
  {
   "cell_type": "code",
   "execution_count": null,
   "id": "724a3b7d-9259-442b-99e9-92d8c0d84bd2",
   "metadata": {},
   "outputs": [],
   "source": [
    "cd ~/BifrostOmics/rnaseq_project\n",
    "bash rnaseq_pipeline.sh"
   ]
  }
 ],
 "metadata": {
  "kernelspec": {
   "display_name": "Python 3 (ipykernel)",
   "language": "python",
   "name": "python3"
  },
  "language_info": {
   "codemirror_mode": {
    "name": "ipython",
    "version": 3
   },
   "file_extension": ".py",
   "mimetype": "text/x-python",
   "name": "python",
   "nbconvert_exporter": "python",
   "pygments_lexer": "ipython3",
   "version": "3.10.17"
  }
 },
 "nbformat": 4,
 "nbformat_minor": 5
}
