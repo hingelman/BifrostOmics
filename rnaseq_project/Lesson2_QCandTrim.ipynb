{
 "cells": [
  {
   "cell_type": "markdown",
   "id": "cf69c932-6bae-44ea-ba85-82a8d7be6797",
   "metadata": {
    "editable": true,
    "slideshow": {
     "slide_type": ""
    },
    "tags": []
   },
   "source": [
    "🧠 Goal of Lesson 3\n",
    "Assess the quality of your raw reads with FastQC\n",
    "\n",
    "Summarize results with MultiQC\n",
    "\n",
    "Trim adapters and low-quality sequences with fastp"
   ]
  },
  {
   "cell_type": "markdown",
   "id": "80e49d07-bfc5-48e9-bcd5-be82502f4c07",
   "metadata": {},
   "source": [
    "✅ 0. process all .sra files inside raw_data folder:"
   ]
  },
  {
   "cell_type": "code",
   "execution_count": null,
   "id": "2e8f6559-1b14-4888-8166-99b2c9416e60",
   "metadata": {},
   "outputs": [],
   "source": [
    "bash extract_all_fastq_parallel.sh\n",
    "or\n",
    "bash extract_all_fastq.sh"
   ]
  },
  {
   "cell_type": "markdown",
   "id": "1644b6fe-6521-431d-802f-39e2547334e8",
   "metadata": {},
   "source": [
    "✅ 1. Quality Check with FastQC\n",
    "You've already used fastqc, but here's how you can do it efficiently again, assuming your fastq files are in raw_data and organized in subfolders:\n",
    "If not already done, create and run this script:"
   ]
  },
  {
   "cell_type": "code",
   "execution_count": null,
   "id": "ccd3f44a-7fa1-4d49-afff-3b59571dda30",
   "metadata": {},
   "outputs": [],
   "source": [
    "#!/bin/bash\n",
    "# File: run_fastqc.sh\n",
    "# Location: rnaseq_project/raw_data/\n",
    "\n",
    "mkdir -p ../fastqc_results\n",
    "\n",
    "find . -name \"*.fastq.gz\" | while read fq; do\n",
    "    echo \"Running FastQC on $fq\"\n",
    "    fastqc \"$fq\" -o ../fastqc_results\n",
    "done"
   ]
  },
  {
   "cell_type": "code",
   "execution_count": null,
   "id": "db54e0e6-81a7-4b37-96ba-2be87c76a3a5",
   "metadata": {},
   "outputs": [],
   "source": [
    "bash run_fastqc.sh"
   ]
  },
  {
   "cell_type": "markdown",
   "id": "f487c9d0-7b84-4370-bdd4-81d1a3453c87",
   "metadata": {},
   "source": [
    "✅ 2. Summarize with MultiQC\n",
    "Install MultiQC if not done yet:\n",
    "\n",
    "conda install -c bioconda multiqc\n",
    "\n",
    "Then run:"
   ]
  },
  {
   "cell_type": "code",
   "execution_count": null,
   "id": "c4544480-5719-472b-bc65-4f3b019040f7",
   "metadata": {},
   "outputs": [],
   "source": [
    "cd ../fastqc_results\n",
    "multiqc ."
   ]
  },
  {
   "cell_type": "markdown",
   "id": "91011ad2-8e29-4b4f-bd3f-b16c45fe8b3b",
   "metadata": {},
   "source": [
    "This will generate an multiqc_report.html summarizing all FastQC results. Open it with your browser or in Jupyerlab"
   ]
  },
  {
   "cell_type": "code",
   "execution_count": null,
   "id": "966c836e-c6c3-41e7-acca-04fc06cdb527",
   "metadata": {},
   "outputs": [],
   "source": [
    "✅ 3. Trim Reads with fastp\n",
    "Install:\n",
    "\n",
    "conda install -c bioconda fastp\n",
    "\n",
    "Now create a script to automatically trim all pairs:"
   ]
  },
  {
   "cell_type": "code",
   "execution_count": null,
   "id": "6c100810-ec72-4a01-be5d-e85ee0385690",
   "metadata": {},
   "outputs": [],
   "source": [
    "#!/bin/bash\n",
    "# File: trim_all_fastq_parallel.sh\n",
    "# Location: rnaseq_project/raw_data/\n",
    "# Optimized for 8 threads across 4 cores\n",
    "\n",
    "# Create output directory\n",
    "mkdir -p ../trimmed_data\n",
    "\n",
    "# Function to process a single sample\n",
    "process_sample() {\n",
    "    local folder=\"$1\"\n",
    "    local r1=$(find \"$folder\" -name \"*_1.fastq.gz\" | head -n1)\n",
    "    local r2=$(find \"$folder\" -name \"*_2.fastq.gz\" | head -n1)\n",
    "    local sample=$(basename \"$folder\")\n",
    "\n",
    "    if [[ -f \"$r1\" && -f \"$r2\" ]]; then\n",
    "        echo \"Trimming $sample\"\n",
    "        \n",
    "        fastp \\\n",
    "          -i \"$r1\" \\\n",
    "          -I \"$r2\" \\\n",
    "          -o ../trimmed_data/\"${sample}\"_1.trimmed.fastq.gz \\\n",
    "          -O ../trimmed_data/\"${sample}\"_2.trimmed.fastq.gz \\\n",
    "          --detect_adapter_for_pe \\\n",
    "          --thread 2 \\\n",
    "          --html ../trimmed_data/\"${sample}\".html \\\n",
    "          --json ../trimmed_data/\"${sample}\".json\n",
    "    fi\n",
    "}\n",
    "\n",
    "export -f process_sample\n",
    "\n",
    "# Find all directories and process them in parallel\n",
    "find . -maxdepth 1 -type d ! -path . | \\\n",
    "    parallel --jobs 4 --load 100% process_sample\n",
    "\n",
    "echo \"All trimming jobs completed!\""
   ]
  },
  {
   "cell_type": "code",
   "execution_count": null,
   "id": "c4853e6a-0b4d-4c9e-86d7-9f70a962b3c1",
   "metadata": {},
   "outputs": [],
   "source": [
    "bash trim_all_fastq_parallel.sh"
   ]
  },
  {
   "cell_type": "markdown",
   "id": "16927979-1e35-4e38-80db-7a3e798ec879",
   "metadata": {},
   "source": [
    "Now all the reads are trimmed :)"
   ]
  },
  {
   "cell_type": "markdown",
   "id": "77b4bc9f-603e-499a-b9f2-d2324cefb484",
   "metadata": {},
   "source": [
    "////////////////////////////////////////////////////\n",
    "useful command (run in terminal) to monitor fasterq-dump|pigz|gzip|fastp procceses:\n",
    "\n",
    "while true; do date -u \"+%Y-%m-%d %H:%M:%S\"; echo \"User: $USER\"; echo \"----------------------------------------\"; ps aux | grep -E \"fasterq-dump|pigz|gzip|fastp\" | grep -v \"grep\"; echo; sleep 30; done"
   ]
  }
 ],
 "metadata": {
  "kernelspec": {
   "display_name": "Python 3 (ipykernel)",
   "language": "python",
   "name": "python3"
  },
  "language_info": {
   "codemirror_mode": {
    "name": "ipython",
    "version": 3
   },
   "file_extension": ".py",
   "mimetype": "text/x-python",
   "name": "python",
   "nbconvert_exporter": "python",
   "pygments_lexer": "ipython3",
   "version": "3.10.17"
  }
 },
 "nbformat": 4,
 "nbformat_minor": 5
}
