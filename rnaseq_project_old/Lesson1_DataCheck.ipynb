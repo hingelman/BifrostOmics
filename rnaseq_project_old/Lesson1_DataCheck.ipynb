{
 "cells": [
  {
   "cell_type": "markdown",
   "id": "a3b384b6-0b62-4721-b468-d4b8103e2d40",
   "metadata": {
    "editable": true,
    "slideshow": {
     "slide_type": ""
    },
    "tags": []
   },
   "source": [
    "🧪 Day 2 — Data Retrieval & Inspection (RNA-seq raw data)\n",
    "🎯 Goal:\n",
    "Download real RNA-seq data (SRA/GEO), inspect the files, and verify integrity. All dataset-agnostic.\n",
    "\n",
    "source data for the workshop:\n",
    "https://www.ncbi.nlm.nih.gov/Traces/study/?acc=SRP422095&o=acc_s%3Aa\n",
    "https://trace.ncbi.nlm.nih.gov/Traces/index.html?view=study&acc=SRP422095\n",
    "https://www.ncbi.nlm.nih.gov/sra/?term=SRP422095\n",
    "\n",
    "✅ Step 1: Create a project folder. In your JupyterLab Terminal (NOT NOTEBOOK!):"
   ]
  },
  {
   "cell_type": "code",
   "execution_count": null,
   "id": "17ba46e2-9d3a-4d3a-8e36-baf08363e31f",
   "metadata": {
    "editable": true,
    "slideshow": {
     "slide_type": ""
    },
    "tags": []
   },
   "outputs": [],
   "source": [
    "mkdir -p ~/rnaseq_project/raw_data\n",
    "cd ~/rnaseq_project/raw_data"
   ]
  },
  {
   "cell_type": "markdown",
   "id": "8dea5b50-9304-4294-bf42-4d981d5b51a2",
   "metadata": {
    "editable": true,
    "slideshow": {
     "slide_type": ""
    },
    "tags": []
   },
   "source": [
    "✅ Step 2: Install Entrez Direct"
   ]
  },
  {
   "cell_type": "code",
   "execution_count": null,
   "id": "7432aa56-2ad0-4dd2-aefc-43139b4e9c07",
   "metadata": {
    "editable": true,
    "slideshow": {
     "slide_type": ""
    },
    "tags": []
   },
   "outputs": [],
   "source": [
    "conda install -c bioconda entrez-direct -y"
   ]
  },
  {
   "cell_type": "markdown",
   "id": "d7de6de6-f935-4702-966d-9078355484b2",
   "metadata": {
    "editable": true,
    "slideshow": {
     "slide_type": ""
    },
    "tags": []
   },
   "source": [
    "✅ Step 3: Find SRA sample IDs. If you're using a known dataset like GSE225123, get SRA links from NCBI or ENA. For any dataset, here's a quick way:"
   ]
  },
  {
   "cell_type": "code",
   "execution_count": null,
   "id": "e6cbeac3-becb-4147-af4b-27ff547a0fce",
   "metadata": {
    "editable": true,
    "slideshow": {
     "slide_type": ""
    },
    "tags": []
   },
   "outputs": [],
   "source": [
    "esearch -db gds -query GSE225123 | elink -target sra | efetch -format runinfo > runinfo.csv"
   ]
  },
  {
   "cell_type": "markdown",
   "id": "09c27507-04cc-40ac-80b1-d09f3abf330f",
   "metadata": {
    "editable": true,
    "slideshow": {
     "slide_type": ""
    },
    "tags": []
   },
   "source": [
    " Then either open the file in Jupyterlab navigator (double click) or run:"
   ]
  },
  {
   "cell_type": "code",
   "execution_count": null,
   "id": "1d55729f-1f90-4837-ba0c-82dbdf785e9f",
   "metadata": {
    "editable": true,
    "slideshow": {
     "slide_type": ""
    },
    "tags": []
   },
   "outputs": [],
   "source": [
    "head runinfo.csv"
   ]
  },
  {
   "cell_type": "markdown",
   "id": "e282fc85-a385-44f2-91ac-3e3ff256db11",
   "metadata": {
    "editable": true,
    "slideshow": {
     "slide_type": ""
    },
    "tags": []
   },
   "source": [
    "✅ Step 4: Download FASTQ files (2 samples for testing).\n",
    "Use --split-files to separate paired-end reads and use --gzip to compress the files directly."
   ]
  },
  {
   "cell_type": "code",
   "execution_count": null,
   "id": "e94bc48b-82cf-40ea-baf1-7839055128e8",
   "metadata": {
    "editable": true,
    "slideshow": {
     "slide_type": ""
    },
    "tags": []
   },
   "outputs": [],
   "source": [
    "prefetch SRR23426208 SRR23426209\n",
    "fasterq-dump SRR23426208 SRR23426209 --split-files\n",
    "gzip SRR23426208*.fastq\n",
    "gzip SRR23426209*.fastq"
   ]
  },
  {
   "cell_type": "markdown",
   "id": "85c2d8b2-9beb-4d6f-9bd2-daa97c7f83cc",
   "metadata": {
    "editable": true,
    "slideshow": {
     "slide_type": ""
    },
    "tags": []
   },
   "source": [
    "✅ Step 5: Inspect files\n",
    "In notebook run:"
   ]
  },
  {
   "cell_type": "code",
   "execution_count": 14,
   "id": "d90bd76b-ef07-49e3-9d2b-6e597173d90e",
   "metadata": {
    "editable": true,
    "slideshow": {
     "slide_type": ""
    },
    "tags": []
   },
   "outputs": [
    {
     "name": "stdout",
     "output_type": "stream",
     "text": [
      "-rw-r--r-- 1 henri henri 271M May 20 19:20 ./raw_data/SRR23426208/SRR23426208_1.fastq.gz\n",
      "-rw-r--r-- 1 henri henri 329M May 20 19:20 ./raw_data/SRR23426208/SRR23426208_2.fastq.gz\n",
      "@SRR23426208.1 1 length=76\n",
      "TAAAGAATGCTGTAAAGTCAGTTAAGTGATAATTAGAGGGAAGATAAAATATTCAATTATATATAGGTATTTATTT\n",
      "+SRR23426208.1 1 length=76\n",
      "AAAAAEEEEEEEAEEEEEEEEEEEEEEEEEEEEEAEEEEEEEEAEAEEEEEEEEEEEE/EAEEEAAEEEEEEEEEA\n",
      "@SRR23426208.2 2 length=76\n",
      "CATAGTAAATATTAATATTTTATGTCGCTTATGGCGGCAAGATGGGGGTAAAAAATGATTATTAGTGCAAGAAATC\n",
      "+SRR23426208.2 2 length=76\n",
      "AAAAAEE6AEAAAE/E/EEEEEEEEEAAAAEEEEEEEE/EEEEE/AEEEE/E/AEEEEEA/EEEEAEAAAEE//<E\n",
      "@SRR23426208.3 3 length=76\n",
      "ATTAATATTTTATGTCGCTTATGGCGGCAAGATGGGGGTAAAAAATGATTATTAGTGCAAGAAATCAAATAACAGG\n",
      "\n",
      "gzip: stdout: Broken pipe\n"
     ]
    }
   ],
   "source": [
    "!ls -lh ./raw_data/SRR23426208/SRR23426208_*.fastq.gz\n",
    "!zcat ./raw_data/SRR23426208/SRR23426208_1.fastq.gz | head"
   ]
  },
  {
   "cell_type": "code",
   "execution_count": null,
   "id": "db0b8166-c56d-4a38-9cc9-374344556ecc",
   "metadata": {
    "editable": true,
    "slideshow": {
     "slide_type": ""
    },
    "tags": []
   },
   "outputs": [],
   "source": [
    "confirmed :\n",
    "File size looks right (in GBs or hundreds of MBs).\n",
    "FastQ format is valid (starts with @, has four lines per read)."
   ]
  },
  {
   "cell_type": "markdown",
   "id": "335be9a1-1190-4e0c-b8d8-9a1a8a6926e9",
   "metadata": {
    "editable": true,
    "slideshow": {
     "slide_type": ""
    },
    "tags": []
   },
   "source": [
    "✅ Step 6: Run initial quality check\n",
    "In notebook or terminal:"
   ]
  },
  {
   "cell_type": "code",
   "execution_count": null,
   "id": "8112f288-5b85-402e-8684-25e8f8f54b5a",
   "metadata": {
    "editable": true,
    "slideshow": {
     "slide_type": ""
    },
    "tags": []
   },
   "outputs": [],
   "source": [
    "!fastqc ./raw_data/SRR23426208_1.fastq.gz ./raw_data/SRR23426208_2.fastq.gz"
   ]
  },
  {
   "cell_type": "code",
   "execution_count": null,
   "id": "93aa47d7-5766-4a9b-9635-9ba5fcb943be",
   "metadata": {
    "editable": true,
    "slideshow": {
     "slide_type": ""
    },
    "tags": []
   },
   "outputs": [],
   "source": [
    "This creates .html reports. You can open in browser or in Jupyerlab"
   ]
  },
  {
   "cell_type": "markdown",
   "id": "a78efd59-9db3-4a15-b903-bf496b683b78",
   "metadata": {
    "editable": true,
    "slideshow": {
     "slide_type": ""
    },
    "tags": []
   },
   "source": [
    "\n",
    "##############################---------##############################---------##############################---------\n",
    "\n",
    "Bonus material/tools:\n",
    "\n",
    "1. run download_ALL_runs.sh to download all the SRA sample data based on the runinfo.csv file:"
   ]
  },
  {
   "cell_type": "code",
   "execution_count": null,
   "id": "c3f320ef-8709-4d49-b65f-cef60b0100aa",
   "metadata": {
    "editable": true,
    "slideshow": {
     "slide_type": ""
    },
    "tags": []
   },
   "outputs": [],
   "source": [
    "bash download_ALL_runs.sh"
   ]
  },
  {
   "cell_type": "markdown",
   "id": "b186cf01-0e2e-4a32-b6f1-325af8185fd5",
   "metadata": {
    "editable": true,
    "slideshow": {
     "slide_type": ""
    },
    "tags": []
   },
   "source": [
    "Folder/file structure after downloads:\n",
    "    \n",
    "rnaseq_project/\n",
    "├── xxx.sh\n",
    "├── raw_data/\n",
    "│   ├── somefolder1/\n",
    "│   │   └── SRRxxxxxx.sra\n",
    "│   ├── somefolder2/\n",
    "│   │   └── SRRyyyyyy.sra\n",
    "│   └── ...\n",
    "└── your_notebooks_here.ipynb"
   ]
  },
  {
   "cell_type": "markdown",
   "id": "b9f80fe8-6b86-41a9-9920-cf68e5efe898",
   "metadata": {
    "editable": true,
    "slideshow": {
     "slide_type": ""
    },
    "tags": []
   },
   "source": [
    "2. For having an overview of all the .sra and fastq.gz files, including all subfolders like raw_data: "
   ]
  },
  {
   "cell_type": "code",
   "execution_count": null,
   "id": "cc88f55f-0045-464a-9a50-66c75b16c9d1",
   "metadata": {
    "editable": true,
    "slideshow": {
     "slide_type": ""
    },
    "tags": []
   },
   "outputs": [],
   "source": [
    "!find -type f -name \"*.sra\"\n",
    "!find -type f -name \"*.fastq.gz\""
   ]
  },
  {
   "cell_type": "markdown",
   "id": "6636afa5-0afb-483c-ad5e-ffe88b73cde7",
   "metadata": {
    "editable": true,
    "slideshow": {
     "slide_type": ""
    },
    "tags": []
   },
   "source": [
    "3. run extract_all_fastq.sh to run fasterq-dump + gzip compression on all of the .sra files in subdirectories"
   ]
  },
  {
   "cell_type": "code",
   "execution_count": null,
   "id": "98bedefb-9188-461c-a6af-dc864f5b7cb7",
   "metadata": {
    "editable": true,
    "slideshow": {
     "slide_type": ""
    },
    "tags": []
   },
   "outputs": [],
   "source": [
    "bash extract_all_fastq.sh"
   ]
  },
  {
   "cell_type": "markdown",
   "id": "a66ca231-fa66-4ee0-881d-389b7fb29294",
   "metadata": {
    "editable": true,
    "slideshow": {
     "slide_type": ""
    },
    "tags": []
   },
   "source": [
    "4. run run_fastqc.sh to run fastQC on all the found *.fastq or *.fastq.gz files found in the subdirectiories:"
   ]
  },
  {
   "cell_type": "code",
   "execution_count": null,
   "id": "276d2f40-22a8-4c49-bc51-ba62a96a550f",
   "metadata": {
    "editable": true,
    "slideshow": {
     "slide_type": ""
    },
    "tags": []
   },
   "outputs": [],
   "source": [
    "bash run_fastqc.sh"
   ]
  },
  {
   "cell_type": "code",
   "execution_count": 24,
   "id": "97b26fbb-e73e-4cdd-ae95-90744fc54118",
   "metadata": {
    "editable": true,
    "slideshow": {
     "slide_type": ""
    },
    "tags": []
   },
   "outputs": [
    {
     "name": "stdout",
     "output_type": "stream",
     "text": [
      "./raw_data/SRR23426214/SRR23426214.sra\n",
      "./raw_data/SRR23426208/SRR23426208.sra\n",
      "./raw_data/SRR23426215/SRR23426215.sra\n",
      "./raw_data/SRR23426220/SRR23426220.sra\n",
      "./raw_data/SRR23426213/SRR23426213.sra\n",
      "./raw_data/SRR23426219/SRR23426219.sra\n",
      "./raw_data/SRR23426209/SRR23426209.sra\n",
      "./raw_data/SRR23426221/SRR23426221.sra\n",
      "./raw_data/SRR23426218/SRR23426218.sra\n",
      "./raw_data/SRR23426211/SRR23426211.sra\n",
      "./raw_data/SRR23426212/SRR23426212.sra\n",
      "./raw_data/SRR23426222/SRR23426222.sra\n",
      "./raw_data/SRR23426210/SRR23426210.sra\n",
      "./raw_data/SRR23426216/SRR23426216.sra\n",
      "./raw_data/SRR23426217/SRR23426217.sra\n",
      "./raw_data/SRR23426208/SRR23426208_2.fastq.gz\n",
      "./raw_data/SRR23426208/SRR23426208_1.fastq.gz\n",
      "./raw_data/SRR23426209/SRR23426209_1.fastq.gz\n",
      "./raw_data/SRR23426209/SRR23426209_2.fastq.gz\n",
      "./raw_data/SRR23426208/SRR23426208_1_fastqc.html\n",
      "./raw_data/SRR23426208/SRR23426208_2_fastqc.html\n",
      "./raw_data/SRR23426209/SRR23426209_1_fastqc.html\n",
      "./raw_data/SRR23426209/SRR23426209_2_fastqc.html\n"
     ]
    }
   ],
   "source": [
    "##############################---------##############################---------##############################---------\n",
    "#final notes:\n",
    "#- downloaded all samples using download_ALL_runs.sh and extracted fastq files for first 2 runs and ran fastQC on those four samples\n",
    "!find -type f -name \"*.sra\"\n",
    "!find -type f -name \"*.fastq.gz\"\n",
    "!find -type f -name \"*fastqc.html\""
   ]
  }
 ],
 "metadata": {
  "kernelspec": {
   "display_name": "bioinformaatika0",
   "language": "python",
   "name": "bioinformaatika0"
  },
  "language_info": {
   "codemirror_mode": {
    "name": "ipython",
    "version": 3
   },
   "file_extension": ".py",
   "mimetype": "text/x-python",
   "name": "python",
   "nbconvert_exporter": "python",
   "pygments_lexer": "ipython3",
   "version": "3.10.17"
  }
 },
 "nbformat": 4,
 "nbformat_minor": 5
}
