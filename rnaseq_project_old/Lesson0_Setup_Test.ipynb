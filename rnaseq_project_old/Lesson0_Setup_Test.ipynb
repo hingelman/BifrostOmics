{
 "cells": [
  {
   "cell_type": "markdown",
   "id": "6cc34e84-6bc2-4b4f-98cb-a81c918e7528",
   "metadata": {
    "editable": true,
    "slideshow": {
     "slide_type": ""
    },
    "tags": []
   },
   "source": [
    "🔬 Day 1 — Bioinformatics Analysis Setup (WSL + JupyterLab)\n",
    "🎯 Set up a dataset-agnostic RNA-seq analysis environment inside WSL that you can use for any project. You’ll finish with a working JupyterLab and all core tools installed.\n",
    "\n",
    "✅ Step 0: Confirm WSL is running\n",
    "If not already started:"
   ]
  },
  {
   "cell_type": "code",
   "execution_count": null,
   "id": "e2556d48-a8ab-4791-a8d4-59d14909a566",
   "metadata": {
    "editable": true,
    "slideshow": {
     "slide_type": ""
    },
    "tags": []
   },
   "outputs": [],
   "source": [
    "wsl -d Ubuntu"
   ]
  },
  {
   "cell_type": "markdown",
   "id": "b37f8bf8-a508-416f-a4c6-fd3558cac65c",
   "metadata": {
    "editable": true,
    "slideshow": {
     "slide_type": ""
    },
    "tags": []
   },
   "source": [
    "You should land in a Linux terminal (yourusername@hostname:~$).\n",
    "\n",
    "✅ Step 1: Update Ubuntu packages\n",
    "Run these in your WSL terminal:"
   ]
  },
  {
   "cell_type": "code",
   "execution_count": null,
   "id": "11205bbc-3edd-4bfc-891e-8a71739be3cf",
   "metadata": {
    "editable": true,
    "slideshow": {
     "slide_type": ""
    },
    "tags": []
   },
   "outputs": [],
   "source": [
    "sudo apt update && sudo apt upgrade -y\n",
    "sudo apt install build-essential wget curl git unzip htop nano"
   ]
  },
  {
   "cell_type": "code",
   "execution_count": null,
   "id": "ea61251d-b3b9-47d1-83d1-dfdc02f4f747",
   "metadata": {
    "editable": true,
    "slideshow": {
     "slide_type": ""
    },
    "tags": []
   },
   "outputs": [],
   "source": [
    "✅ Step 2: Install Miniconda (inside WSL)\n",
    "Miniconda is lighter and easier than full Anaconda."
   ]
  },
  {
   "cell_type": "code",
   "execution_count": null,
   "id": "e84ad9b2-299a-48fc-98fb-ae30150d80d6",
   "metadata": {
    "editable": true,
    "slideshow": {
     "slide_type": ""
    },
    "tags": []
   },
   "outputs": [],
   "source": [
    "wget https://repo.anaconda.com/miniconda/Miniconda3-latest-Linux-x86_64.sh\n",
    "bash Miniconda3-latest-Linux-x86_64.sh"
   ]
  },
  {
   "cell_type": "code",
   "execution_count": null,
   "id": "2de1793b-e7e7-441c-8b6f-2b4a83fcde7c",
   "metadata": {
    "editable": true,
    "slideshow": {
     "slide_type": ""
    },
    "tags": []
   },
   "outputs": [],
   "source": [
    "Follow prompts and accept defaults. Then restart terminal or source your shell:"
   ]
  },
  {
   "cell_type": "code",
   "execution_count": null,
   "id": "174c0cea-60c0-4422-b0ce-7abb29a0a603",
   "metadata": {
    "editable": true,
    "slideshow": {
     "slide_type": ""
    },
    "tags": []
   },
   "outputs": [],
   "source": [
    "source ~/.bashrc"
   ]
  },
  {
   "cell_type": "code",
   "execution_count": null,
   "id": "ad8aeaf4-e141-462a-8aa9-c706f88a6133",
   "metadata": {
    "editable": true,
    "slideshow": {
     "slide_type": ""
    },
    "tags": []
   },
   "outputs": [],
   "source": [
    "You should now have access to conda inside WSL.\n",
    "\n",
    "✅ Step 3: Create your environment\n",
    "We’ll name it bioinformaatika0:"
   ]
  },
  {
   "cell_type": "code",
   "execution_count": null,
   "id": "c3a1edd9-8480-4866-b718-4015465edfda",
   "metadata": {
    "editable": true,
    "slideshow": {
     "slide_type": ""
    },
    "tags": []
   },
   "outputs": [],
   "source": [
    "conda create -n bioinformaatika0 python=3.10 -y\n",
    "conda activate bioinformaatika0"
   ]
  },
  {
   "cell_type": "code",
   "execution_count": null,
   "id": "7e4878d7-c48a-4b97-a95a-35072d2abc3f",
   "metadata": {
    "editable": true,
    "slideshow": {
     "slide_type": ""
    },
    "tags": []
   },
   "outputs": [],
   "source": [
    "✅ Step 4: Add necessary channels"
   ]
  },
  {
   "cell_type": "code",
   "execution_count": null,
   "id": "bfee009f-c33d-4f96-afcf-febc2c1f8f69",
   "metadata": {
    "editable": true,
    "slideshow": {
     "slide_type": ""
    },
    "tags": []
   },
   "outputs": [],
   "source": [
    "conda config --add channels defaults\n",
    "conda config --add channels bioconda\n",
    "conda config --add channels conda-forge\n",
    "conda config --set channel_priority strict"
   ]
  },
  {
   "cell_type": "code",
   "execution_count": null,
   "id": "faf19557-0b70-41e0-b398-dbc6c0e307b9",
   "metadata": {
    "editable": true,
    "slideshow": {
     "slide_type": ""
    },
    "tags": []
   },
   "outputs": [],
   "source": [
    "✅ Step 5: Install core RNA-seq tools\n",
    "These are Linux-compatible only — that’s why we needed WSL."
   ]
  },
  {
   "cell_type": "code",
   "execution_count": null,
   "id": "a1316fca-b324-4533-9888-46df27d620b8",
   "metadata": {
    "editable": true,
    "slideshow": {
     "slide_type": ""
    },
    "tags": []
   },
   "outputs": [],
   "source": [
    "conda install -n bioinformaatika0 fastqc multiqc hisat2 star subread samtools sra-tools entrez-direct -y"
   ]
  },
  {
   "cell_type": "code",
   "execution_count": null,
   "id": "e73ac99a-56e8-48e8-8315-46590df1d88f",
   "metadata": {
    "editable": true,
    "slideshow": {
     "slide_type": ""
    },
    "tags": []
   },
   "outputs": [],
   "source": [
    "Also install JupyterLab:"
   ]
  },
  {
   "cell_type": "code",
   "execution_count": null,
   "id": "f726f63c-ad14-49c9-8921-4b99429e2daa",
   "metadata": {
    "editable": true,
    "slideshow": {
     "slide_type": ""
    },
    "tags": []
   },
   "outputs": [],
   "source": [
    "conda install jupyterlab ipykernel -y\n",
    "python -m ipykernel install --user --name=bioinformaatika0"
   ]
  },
  {
   "cell_type": "code",
   "execution_count": null,
   "id": "12d13dfc-1003-4faf-bf7a-b588a369aa6e",
   "metadata": {
    "editable": true,
    "slideshow": {
     "slide_type": ""
    },
    "tags": []
   },
   "outputs": [],
   "source": [
    "✅ Step 6: Launch JupyterLab from WSL"
   ]
  },
  {
   "cell_type": "code",
   "execution_count": null,
   "id": "ef111577-d6f9-4e77-be94-ea8d29d1e041",
   "metadata": {
    "editable": true,
    "slideshow": {
     "slide_type": ""
    },
    "tags": []
   },
   "outputs": [],
   "source": [
    "jupyter lab --no-browser --ip=127.0.0.1 --port=8888"
   ]
  },
  {
   "cell_type": "code",
   "execution_count": null,
   "id": "faf1c948-fd11-4480-b09c-3171664efd39",
   "metadata": {
    "editable": true,
    "slideshow": {
     "slide_type": ""
    },
    "tags": []
   },
   "outputs": [],
   "source": [
    "🔐 You’ll see a URL like: http://127.0.0.1:8888/lab?token=XYZ — copy this and open it in Chrome or any browser on Windows.\n",
    "You can now:\n",
    "Access a Linux-native JupyterLab interface.\n",
    "Open a new notebook and select the bioinformaatika0 kernel.\n",
    "Use Terminal inside JupyterLab too: File → New → Terminal.\n",
    "\n",
    "✅ Step 7: Test tools\n",
    "Open a JupyterLab Terminal and run a few sanity checks:"
   ]
  },
  {
   "cell_type": "code",
   "execution_count": 1,
   "id": "46357e30-d051-4ae9-80fd-3e37e1798edd",
   "metadata": {
    "editable": true,
    "slideshow": {
     "slide_type": ""
    },
    "tags": []
   },
   "outputs": [
    {
     "name": "stdout",
     "output_type": "stream",
     "text": [
      "FastQC v0.12.1\n",
      "/home/henri/miniconda3/envs/bioinformaatika0/bin/hisat2-align-s version 2.2.1\n",
      "64-bit\n",
      "Built on fv-az658-8\n",
      "Thu Dec 12 16:06:06 UTC 2024\n",
      "Compiler: collect2: error: ld returned 1 exit status\n",
      "Options: -O3 -m64 -msse2 -funroll-loops -g3 -std=c++11\n",
      "Sizeof {int, long, long long, void*, size_t, off_t}: {4, 8, 8, 8, 8, 8}\n",
      "multiqc, version 1.28\n"
     ]
    }
   ],
   "source": [
    "!fastqc --version\n",
    "!hisat2 --version\n",
    "!multiqc --version"
   ]
  },
  {
   "cell_type": "code",
   "execution_count": null,
   "id": "61cc99a2-516f-4640-9da1-fd47c252c3bc",
   "metadata": {
    "editable": true,
    "slideshow": {
     "slide_type": ""
    },
    "tags": []
   },
   "outputs": [],
   "source": [
    "log of all installed packages:"
   ]
  },
  {
   "cell_type": "code",
   "execution_count": 1,
   "id": "3558e3b3-f69a-4403-b56a-1509e20ef1ea",
   "metadata": {
    "editable": true,
    "slideshow": {
     "slide_type": ""
    },
    "tags": []
   },
   "outputs": [
    {
     "name": "stdout",
     "output_type": "stream",
     "text": [
      "# packages in environment at /home/henri/miniconda3/envs/bioinformaatika0:\n",
      "#\n",
      "# Name                    Version                   Build  Channel\n",
      "_libgcc_mutex             0.1                        main  \n",
      "_openmp_mutex             5.1                       1_gnu  \n",
      "alsa-lib                  1.2.14               hb9d3cd8_0    conda-forge\n",
      "annotated-types           0.7.0              pyhd8ed1ab_1    conda-forge\n",
      "anyio                     4.9.0              pyh29332c3_0    conda-forge\n",
      "argon2-cffi               23.1.0             pyhd8ed1ab_1    conda-forge\n",
      "argon2-cffi-bindings      21.2.0          py310ha75aee5_5    conda-forge\n",
      "arrow                     1.3.0              pyhd8ed1ab_1    conda-forge\n",
      "asttokens                 3.0.0              pyhd8ed1ab_1    conda-forge\n",
      "async-lru                 2.0.5              pyh29332c3_0    conda-forge\n",
      "attrs                     25.3.0             pyh71513ae_0    conda-forge\n",
      "babel                     2.17.0             pyhd8ed1ab_0    conda-forge\n",
      "beautifulsoup4            4.13.4             pyha770c72_0    conda-forge\n",
      "bedtools                  2.31.1               h13024bc_3    bioconda\n",
      "biopython                 1.85            py310ha75aee5_1    conda-forge\n",
      "bleach                    6.2.0              pyh29332c3_4    conda-forge\n",
      "bleach-with-css           6.2.0                h82add2a_4    conda-forge\n",
      "brotli                    1.1.0                hb9d3cd8_2    conda-forge\n",
      "brotli-bin                1.1.0                hb9d3cd8_2    conda-forge\n",
      "brotli-python             1.1.0           py310hf71b8c6_2    conda-forge\n",
      "bzip2                     1.0.8                h5eee18b_6  \n",
      "c-ares                    1.34.5               hb9d3cd8_0    conda-forge\n",
      "ca-certificates           2025.4.26            hbd8a1cb_0    conda-forge\n",
      "cached-property           1.5.2                hd8ed1ab_1    conda-forge\n",
      "cached_property           1.5.2              pyha770c72_1    conda-forge\n",
      "cairo                     1.18.4               h3394656_0    conda-forge\n",
      "certifi                   2025.4.26          pyhd8ed1ab_0    conda-forge\n",
      "cffi                      1.17.1          py310h8deb56e_0    conda-forge\n",
      "charset-normalizer        3.4.2              pyhd8ed1ab_0    conda-forge\n",
      "click                     8.2.0              pyh707e725_0    conda-forge\n",
      "colorama                  0.4.6              pyhd8ed1ab_1    conda-forge\n",
      "coloredlogs               15.0.1             pyhd8ed1ab_4    conda-forge\n",
      "colormath                 3.0.0              pyhd8ed1ab_4    conda-forge\n",
      "comm                      0.2.2              pyhd8ed1ab_1    conda-forge\n",
      "contourpy                 1.3.2           py310h3788b33_0    conda-forge\n",
      "curl                      8.13.0               h332b0f4_0    conda-forge\n",
      "cycler                    0.12.1             pyhd8ed1ab_1    conda-forge\n",
      "cyrus-sasl                2.1.27               h54b06d7_7    conda-forge\n",
      "dbus                      1.13.6               h5008d03_3    conda-forge\n",
      "debugpy                   1.8.14          py310hf71b8c6_0    conda-forge\n",
      "decorator                 5.2.1              pyhd8ed1ab_0    conda-forge\n",
      "defusedxml                0.7.1              pyhd8ed1ab_0    conda-forge\n",
      "double-conversion         3.3.1                h5888daf_0    conda-forge\n",
      "entrez-direct             22.4                 he881be0_0    bioconda\n",
      "exceptiongroup            1.3.0              pyhd8ed1ab_0    conda-forge\n",
      "executing                 2.2.0              pyhd8ed1ab_0    conda-forge\n",
      "expat                     2.7.0                h5888daf_0    conda-forge\n",
      "fastqc                    0.12.1               hdfd78af_0    bioconda\n",
      "font-ttf-dejavu-sans-mono 2.37                 hab24e00_0    conda-forge\n",
      "font-ttf-inconsolata      3.000                h77eed37_0    conda-forge\n",
      "font-ttf-source-code-pro  2.038                h77eed37_0    conda-forge\n",
      "font-ttf-ubuntu           0.83                 h77eed37_3    conda-forge\n",
      "fontconfig                2.15.0               h7e30c49_1    conda-forge\n",
      "fonts-conda-ecosystem     1                             0    conda-forge\n",
      "fonts-conda-forge         1                             0    conda-forge\n",
      "fonttools                 4.58.0          py310h89163eb_0    conda-forge\n",
      "fqdn                      1.5.1              pyhd8ed1ab_1    conda-forge\n",
      "freetype                  2.13.3               ha770c72_1    conda-forge\n",
      "giflib                    5.2.2                hd590300_0    conda-forge\n",
      "graphite2                 1.3.13            h59595ed_1003    conda-forge\n",
      "h11                       0.16.0             pyhd8ed1ab_0    conda-forge\n",
      "h2                        4.2.0              pyhd8ed1ab_0    conda-forge\n",
      "harfbuzz                  11.0.0               h76408a6_0    conda-forge\n",
      "hisat2                    2.2.1                h503566f_8    bioconda\n",
      "hpack                     4.1.0              pyhd8ed1ab_0    conda-forge\n",
      "htslib                    1.21                 h566b1c6_1    bioconda\n",
      "httpcore                  1.0.9              pyh29332c3_0    conda-forge\n",
      "httpx                     0.28.1             pyhd8ed1ab_0    conda-forge\n",
      "humanfriendly             10.0               pyh707e725_8    conda-forge\n",
      "humanize                  4.12.3             pyhd8ed1ab_0    conda-forge\n",
      "hyperframe                6.1.0              pyhd8ed1ab_0    conda-forge\n",
      "icu                       75.1                 he02047a_0    conda-forge\n",
      "idna                      3.10               pyhd8ed1ab_1    conda-forge\n",
      "importlib-metadata        8.6.1              pyha770c72_0    conda-forge\n",
      "importlib_resources       6.5.2              pyhd8ed1ab_0    conda-forge\n",
      "ipykernel                 6.29.5             pyh3099207_0    conda-forge\n",
      "ipython                   8.36.0             pyh907856f_0    conda-forge\n",
      "isoduration               20.11.0            pyhd8ed1ab_1    conda-forge\n",
      "jedi                      0.19.2             pyhd8ed1ab_1    conda-forge\n",
      "jinja2                    3.1.6              pyhd8ed1ab_0    conda-forge\n",
      "joblib                    1.5.0              pyhd8ed1ab_0    conda-forge\n",
      "json5                     0.12.0             pyhd8ed1ab_0    conda-forge\n",
      "jsonpointer               3.0.0           py310hff52083_1    conda-forge\n",
      "jsonschema                4.23.0             pyhd8ed1ab_1    conda-forge\n",
      "jsonschema-specifications 2025.4.1           pyh29332c3_0    conda-forge\n",
      "jsonschema-with-format-nongpl 4.23.0               hd8ed1ab_1    conda-forge\n",
      "jupyter-lsp               2.2.5              pyhd8ed1ab_1    conda-forge\n",
      "jupyter_client            8.6.3              pyhd8ed1ab_1    conda-forge\n",
      "jupyter_core              5.7.2              pyh31011fe_1    conda-forge\n",
      "jupyter_events            0.12.0             pyh29332c3_0    conda-forge\n",
      "jupyter_server            2.16.0             pyhe01879c_0    conda-forge\n",
      "jupyter_server_terminals  0.5.3              pyhd8ed1ab_1    conda-forge\n",
      "jupyterlab                4.4.2              pyhd8ed1ab_0    conda-forge\n",
      "jupyterlab_pygments       0.3.0              pyhd8ed1ab_2    conda-forge\n",
      "jupyterlab_server         2.27.3             pyhd8ed1ab_1    conda-forge\n",
      "kaleido-core              0.2.1                h3644ca4_0    conda-forge\n",
      "keyutils                  1.6.1                h166bdaf_0    conda-forge\n",
      "kiwisolver                1.4.7           py310h3788b33_0    conda-forge\n",
      "krb5                      1.21.3               h659f571_0    conda-forge\n",
      "lcms2                     2.17                 h717163a_0    conda-forge\n",
      "ld_impl_linux-64          2.40                 h12ee557_0  \n",
      "lerc                      4.0.0                h0aef613_1    conda-forge\n",
      "libasprintf               0.24.1               h8e693c7_0    conda-forge\n",
      "libblas                   3.9.0           31_h59b9bed_openblas    conda-forge\n",
      "libbrotlicommon           1.1.0                hb9d3cd8_2    conda-forge\n",
      "libbrotlidec              1.1.0                hb9d3cd8_2    conda-forge\n",
      "libbrotlienc              1.1.0                hb9d3cd8_2    conda-forge\n",
      "libcblas                  3.9.0           31_he106b2a_openblas    conda-forge\n",
      "libclang-cpp20.1          20.1.5          default_h1df26ce_1    conda-forge\n",
      "libclang13                20.1.5          default_he06ed0a_1    conda-forge\n",
      "libcups                   2.3.3                h4637d8d_4    conda-forge\n",
      "libcurl                   8.13.0               h332b0f4_0    conda-forge\n",
      "libdeflate                1.24                 h86f0d12_0    conda-forge\n",
      "libdrm                    2.4.124              hb9d3cd8_0    conda-forge\n",
      "libedit                   3.1.20250104    pl5321h7949ede_0    conda-forge\n",
      "libegl                    1.7.0                ha4b6fd6_2    conda-forge\n",
      "libev                     4.33                 hd590300_2    conda-forge\n",
      "libexpat                  2.7.0                h5888daf_0    conda-forge\n",
      "libffi                    3.4.4                h6a678d5_1  \n",
      "libfreetype               2.13.3               ha770c72_1    conda-forge\n",
      "libfreetype6              2.13.3               h48d6fc4_1    conda-forge\n",
      "libgcc                    15.1.0               h767d61c_2    conda-forge\n",
      "libgcc-ng                 15.1.0               h69a702a_2    conda-forge\n",
      "libgettextpo              0.24.1               h5888daf_0    conda-forge\n",
      "libgfortran               15.1.0               h69a702a_2    conda-forge\n",
      "libgfortran5              15.1.0               hcea5267_2    conda-forge\n",
      "libgl                     1.7.0                ha4b6fd6_2    conda-forge\n",
      "libglib                   2.84.0               h2ff4ddf_0    conda-forge\n",
      "libglvnd                  1.7.0                ha4b6fd6_2    conda-forge\n",
      "libglx                    1.7.0                ha4b6fd6_2    conda-forge\n",
      "libgomp                   15.1.0               h767d61c_2    conda-forge\n",
      "libiconv                  1.18                 h4ce23a2_1    conda-forge\n",
      "libidn2                   2.3.8                ha4ef2c3_0    conda-forge\n",
      "libjpeg-turbo             3.1.0                hb9d3cd8_0    conda-forge\n",
      "liblapack                 3.9.0           31_h7ac8fdf_openblas    conda-forge\n",
      "libllvm20                 20.1.5               he9d0ab4_0    conda-forge\n",
      "liblzma                   5.8.1                hb9d3cd8_1    conda-forge\n",
      "liblzma-devel             5.8.1                hb9d3cd8_1    conda-forge\n",
      "libnghttp2                1.64.0               h161d5f1_0    conda-forge\n",
      "libnsl                    2.0.1                hd590300_0    conda-forge\n",
      "libntlm                   1.8                  hb9d3cd8_0    conda-forge\n",
      "libopenblas               0.3.29          pthreads_h94d23a6_0    conda-forge\n",
      "libopengl                 1.7.0                ha4b6fd6_2    conda-forge\n",
      "libpciaccess              0.18                 hd590300_0    conda-forge\n",
      "libpng                    1.6.47               h943b412_0    conda-forge\n",
      "libpq                     17.5                 h27ae623_0    conda-forge\n",
      "libsodium                 1.0.20               h4ab18f5_0    conda-forge\n",
      "libsqlite                 3.49.2               hee588c1_0    conda-forge\n",
      "libssh2                   1.11.1               hcf80075_0    conda-forge\n",
      "libstdcxx                 15.1.0               h8f9b012_2    conda-forge\n",
      "libstdcxx-ng              15.1.0               h4852527_2    conda-forge\n",
      "libtiff                   4.7.0                hf01ce69_5    conda-forge\n",
      "libunistring              0.9.10               h7f98852_0    conda-forge\n",
      "libuuid                   2.38.1               h0b41bf4_0    conda-forge\n",
      "libwebp-base              1.5.0                h851e524_0    conda-forge\n",
      "libxcb                    1.17.0               h8a09558_0    conda-forge\n",
      "libxcrypt                 4.4.36               hd590300_1    conda-forge\n",
      "libxkbcommon              1.9.2                h65c71a3_0    conda-forge\n",
      "libxml2                   2.13.8               h4bc477f_0    conda-forge\n",
      "libxslt                   1.1.39               h76b75d6_0    conda-forge\n",
      "libzlib                   1.3.1                hb9d3cd8_2    conda-forge\n",
      "markdown                  3.8                pyhd8ed1ab_0    conda-forge\n",
      "markdown-it-py            3.0.0              pyhd8ed1ab_1    conda-forge\n",
      "markupsafe                3.0.2           py310h89163eb_1    conda-forge\n",
      "mathjax                   2.7.7                ha770c72_3    conda-forge\n",
      "matplotlib                3.10.3          py310hff52083_0    conda-forge\n",
      "matplotlib-base           3.10.3          py310h68603db_0    conda-forge\n",
      "matplotlib-inline         0.1.7              pyhd8ed1ab_1    conda-forge\n",
      "mdurl                     0.1.2              pyhd8ed1ab_1    conda-forge\n",
      "mistune                   3.1.3              pyh29332c3_0    conda-forge\n",
      "multiqc                   1.28               pyhdfd78af_0    bioconda\n",
      "munkres                   1.1.4              pyh9f0ad1d_0    conda-forge\n",
      "mysql-common              9.0.1                h266115a_6    conda-forge\n",
      "mysql-libs                9.0.1                he0572af_6    conda-forge\n",
      "narwhals                  1.40.0             pyhe01879c_0    conda-forge\n",
      "natsort                   8.4.0              pyh29332c3_1    conda-forge\n",
      "nbclient                  0.10.2             pyhd8ed1ab_0    conda-forge\n",
      "nbconvert-core            7.16.6             pyh29332c3_0    conda-forge\n",
      "nbformat                  5.10.4             pyhd8ed1ab_1    conda-forge\n",
      "ncbi-vdb                  3.2.1                h9948957_0    bioconda\n",
      "ncurses                   6.5                  h2d0b736_3    conda-forge\n",
      "nest-asyncio              1.6.0              pyhd8ed1ab_1    conda-forge\n",
      "networkx                  3.4.2              pyh267e887_2    conda-forge\n",
      "notebook-shim             0.2.4              pyhd8ed1ab_1    conda-forge\n",
      "nspr                      4.36                 h5888daf_0    conda-forge\n",
      "nss                       3.111                h159eef7_0    conda-forge\n",
      "numpy                     2.2.6           py310hefbff90_0    conda-forge\n",
      "openjdk                   23.0.2               h53dfc1b_2    conda-forge\n",
      "openjpeg                  2.5.3                h5fbd93e_0    conda-forge\n",
      "openldap                  2.6.9                he970967_0    conda-forge\n",
      "openssl                   3.5.0                h7b32b05_1    conda-forge\n",
      "ossuuid                   1.6.2             h5888daf_1001    conda-forge\n",
      "overrides                 7.7.0              pyhd8ed1ab_1    conda-forge\n",
      "packaging                 25.0               pyh29332c3_1    conda-forge\n",
      "pandas                    2.2.3           py310h5eaa309_3    conda-forge\n",
      "pandocfilters             1.5.0              pyhd8ed1ab_0    conda-forge\n",
      "parso                     0.8.4              pyhd8ed1ab_1    conda-forge\n",
      "patsy                     1.0.1              pyhd8ed1ab_1    conda-forge\n",
      "pcre2                     10.44                hc749103_2    conda-forge\n",
      "perl                      5.32.1          7_hd590300_perl5    conda-forge\n",
      "perl-alien-build          2.84            pl5321h7b50bb2_1    bioconda\n",
      "perl-alien-libxml2        0.17            pl5321h577a1d6_1    bioconda\n",
      "perl-business-isbn        3.007           pl5321hd8ed1ab_0    conda-forge\n",
      "perl-business-isbn-data   20210112.006    pl5321hd8ed1ab_0    conda-forge\n",
      "perl-capture-tiny         0.48            pl5321ha770c72_1    conda-forge\n",
      "perl-carp                 1.50            pl5321hd8ed1ab_0    conda-forge\n",
      "perl-constant             1.33            pl5321hd8ed1ab_0    conda-forge\n",
      "perl-exporter             5.74            pl5321hd8ed1ab_0    conda-forge\n",
      "perl-extutils-makemaker   7.70            pl5321hd8ed1ab_0    conda-forge\n",
      "perl-ffi-checklib         0.28            pl5321hdfd78af_0    bioconda\n",
      "perl-file-chdir           0.1011          pl5321hd8ed1ab_0    conda-forge\n",
      "perl-file-path            2.18            pl5321hd8ed1ab_0    conda-forge\n",
      "perl-file-temp            0.2304          pl5321hd8ed1ab_0    conda-forge\n",
      "perl-file-which           1.24            pl5321hd8ed1ab_0    conda-forge\n",
      "perl-importer             0.026           pl5321hd8ed1ab_0    conda-forge\n",
      "perl-parent               0.243           pl5321hd8ed1ab_0    conda-forge\n",
      "perl-path-tiny            0.124           pl5321hd8ed1ab_0    conda-forge\n",
      "perl-pathtools            3.75            pl5321hb9d3cd8_2    conda-forge\n",
      "perl-scope-guard          0.21            pl5321hd8ed1ab_0    conda-forge\n",
      "perl-sub-info             0.002           pl5321hd8ed1ab_0    conda-forge\n",
      "perl-term-table           0.024           pl5321hdfd78af_0    bioconda\n",
      "perl-test-fatal           0.016           pl5321ha770c72_0    conda-forge\n",
      "perl-test-warnings        0.031           pl5321ha770c72_0    conda-forge\n",
      "perl-test2-suite          0.000163        pl5321hdfd78af_0    bioconda\n",
      "perl-try-tiny             0.31            pl5321ha770c72_0    conda-forge\n",
      "perl-uri                  5.17            pl5321ha770c72_0    conda-forge\n",
      "perl-xml-libxml           2.0210          pl5321hf886d80_0    bioconda\n",
      "perl-xml-namespacesupport 1.12            pl5321hd8ed1ab_0    conda-forge\n",
      "perl-xml-sax              1.02            pl5321hd8ed1ab_0    conda-forge\n",
      "perl-xml-sax-base         1.09            pl5321hd8ed1ab_0    conda-forge\n",
      "pexpect                   4.9.0              pyhd8ed1ab_1    conda-forge\n",
      "pickleshare               0.7.5           pyhd8ed1ab_1004    conda-forge\n",
      "pillow                    11.2.1          py310h7e6dc6c_0    conda-forge\n",
      "pip                       25.1               pyhc872135_2  \n",
      "pixman                    0.46.0               h29eaf8c_0    conda-forge\n",
      "pkgutil-resolve-name      1.3.10             pyhd8ed1ab_2    conda-forge\n",
      "platformdirs              4.3.8              pyhe01879c_0    conda-forge\n",
      "plotly                    6.1.0              pyhd8ed1ab_0    conda-forge\n",
      "prometheus_client         0.22.0             pyhd8ed1ab_0    conda-forge\n",
      "prompt-toolkit            3.0.51             pyha770c72_0    conda-forge\n",
      "psutil                    7.0.0           py310ha75aee5_0    conda-forge\n",
      "pthread-stubs             0.4               hb9d3cd8_1002    conda-forge\n",
      "ptyprocess                0.7.0              pyhd8ed1ab_1    conda-forge\n",
      "pure_eval                 0.2.3              pyhd8ed1ab_1    conda-forge\n",
      "pyaml-env                 1.2.2              pyhd8ed1ab_0    conda-forge\n",
      "pycparser                 2.22               pyh29332c3_1    conda-forge\n",
      "pydantic                  2.11.4             pyh3cfb1c2_0    conda-forge\n",
      "pydantic-core             2.33.2          py310hbcd0ec0_0    conda-forge\n",
      "pygments                  2.19.1             pyhd8ed1ab_0    conda-forge\n",
      "pyparsing                 3.2.3              pyhd8ed1ab_1    conda-forge\n",
      "pyside6                   6.9.0           py310hfd10a26_0    conda-forge\n",
      "pysocks                   1.7.1              pyha55dd90_7    conda-forge\n",
      "python                    3.10.17         hd6af730_0_cpython    conda-forge\n",
      "python-dateutil           2.9.0.post0        pyhff2d567_1    conda-forge\n",
      "python-dotenv             1.1.0              pyh29332c3_1    conda-forge\n",
      "python-fastjsonschema     2.21.1             pyhd8ed1ab_0    conda-forge\n",
      "python-json-logger        2.0.7              pyhd8ed1ab_0    conda-forge\n",
      "python-kaleido            0.2.1              pyhd8ed1ab_0    conda-forge\n",
      "python-tzdata             2025.2             pyhd8ed1ab_0    conda-forge\n",
      "python_abi                3.10                    7_cp310    conda-forge\n",
      "pytz                      2025.2             pyhd8ed1ab_0    conda-forge\n",
      "pyyaml                    6.0.2           py310h89163eb_2    conda-forge\n",
      "pyzmq                     26.4.0          py310h71f11fc_0    conda-forge\n",
      "qhull                     2020.2               h434a139_5    conda-forge\n",
      "qt6-main                  6.9.0                h6441bc3_0    conda-forge\n",
      "readline                  8.2                  h5eee18b_0  \n",
      "referencing               0.36.2             pyh29332c3_0    conda-forge\n",
      "regex                     2024.11.6       py310ha75aee5_0    conda-forge\n",
      "requests                  2.32.3             pyhd8ed1ab_1    conda-forge\n",
      "rfc3339-validator         0.1.4              pyhd8ed1ab_1    conda-forge\n",
      "rfc3986-validator         0.1.1              pyh9f0ad1d_0    conda-forge\n",
      "rich                      14.0.0             pyh29332c3_0    conda-forge\n",
      "rich-click                1.8.9              pyhd8ed1ab_0    conda-forge\n",
      "rpds-py                   0.25.0          py310hbcd0ec0_0    conda-forge\n",
      "samtools                  1.21                 h96c455f_1    bioconda\n",
      "scikit-learn              1.6.1           py310h27f47ee_0    conda-forge\n",
      "scipy                     1.15.2          py310h1d65ade_0    conda-forge\n",
      "seaborn                   0.13.2               hd8ed1ab_3    conda-forge\n",
      "seaborn-base              0.13.2             pyhd8ed1ab_3    conda-forge\n",
      "send2trash                1.8.3              pyh0d859eb_1    conda-forge\n",
      "setuptools                78.1.1          py310h06a4308_0  \n",
      "six                       1.17.0             pyhd8ed1ab_0    conda-forge\n",
      "sniffio                   1.3.1              pyhd8ed1ab_1    conda-forge\n",
      "soupsieve                 2.7                pyhd8ed1ab_0    conda-forge\n",
      "spectra                   0.0.11             pyhd8ed1ab_2    conda-forge\n",
      "sqlite                    3.49.2               h9eae976_0    conda-forge\n",
      "sra-tools                 3.2.1                h4304569_0    bioconda\n",
      "stack_data                0.6.3              pyhd8ed1ab_1    conda-forge\n",
      "star                      2.7.11b              h5ca1c30_6    bioconda\n",
      "statsmodels               0.14.4          py310hf462985_0    conda-forge\n",
      "subread                   2.1.1                h577a1d6_0    bioconda\n",
      "terminado                 0.18.1             pyh0d859eb_0    conda-forge\n",
      "threadpoolctl             3.6.0              pyhecae5ae_0    conda-forge\n",
      "tiktoken                  0.9.0           py310h6e8e937_0    conda-forge\n",
      "tinycss2                  1.4.0              pyhd8ed1ab_0    conda-forge\n",
      "tk                        8.6.13          noxft_h4845f30_101    conda-forge\n",
      "tomli                     2.2.1              pyhd8ed1ab_1    conda-forge\n",
      "tornado                   6.5             py310ha75aee5_0    conda-forge\n",
      "tqdm                      4.67.1             pyhd8ed1ab_1    conda-forge\n",
      "traitlets                 5.14.3             pyhd8ed1ab_1    conda-forge\n",
      "typeguard                 4.4.2              pyhd8ed1ab_0    conda-forge\n",
      "types-python-dateutil     2.9.0.20250516     pyhd8ed1ab_0    conda-forge\n",
      "typing-extensions         4.13.2               h0e9735f_0    conda-forge\n",
      "typing-inspection         0.4.0              pyhd8ed1ab_0    conda-forge\n",
      "typing_extensions         4.13.2             pyh29332c3_0    conda-forge\n",
      "typing_utils              0.1.0              pyhd8ed1ab_1    conda-forge\n",
      "tzdata                    2025b                h04d1e81_0  \n",
      "unicodedata2              16.0.0          py310ha75aee5_0    conda-forge\n",
      "uri-template              1.3.0              pyhd8ed1ab_1    conda-forge\n",
      "urllib3                   2.4.0              pyhd8ed1ab_0    conda-forge\n",
      "wayland                   1.23.1               h3e06ad9_0    conda-forge\n",
      "wcwidth                   0.2.13             pyhd8ed1ab_1    conda-forge\n",
      "webcolors                 24.11.1            pyhd8ed1ab_0    conda-forge\n",
      "webencodings              0.5.1              pyhd8ed1ab_3    conda-forge\n",
      "websocket-client          1.8.0              pyhd8ed1ab_1    conda-forge\n",
      "wget                      1.21.4               hda4d442_0    conda-forge\n",
      "wheel                     0.45.1          py310h06a4308_0  \n",
      "xcb-util                  0.4.1                hb711507_2    conda-forge\n",
      "xcb-util-cursor           0.1.5                hb9d3cd8_0    conda-forge\n",
      "xcb-util-image            0.4.0                hb711507_2    conda-forge\n",
      "xcb-util-keysyms          0.4.1                hb711507_0    conda-forge\n",
      "xcb-util-renderutil       0.3.10               hb711507_0    conda-forge\n",
      "xcb-util-wm               0.4.2                hb711507_0    conda-forge\n",
      "xkeyboard-config          2.44                 hb9d3cd8_0    conda-forge\n",
      "xorg-libice               1.1.2                hb9d3cd8_0    conda-forge\n",
      "xorg-libsm                1.2.6                he73a12e_0    conda-forge\n",
      "xorg-libx11               1.8.12               h4f16b4b_0    conda-forge\n",
      "xorg-libxau               1.0.12               hb9d3cd8_0    conda-forge\n",
      "xorg-libxcomposite        0.4.6                hb9d3cd8_2    conda-forge\n",
      "xorg-libxcursor           1.2.3                hb9d3cd8_0    conda-forge\n",
      "xorg-libxdamage           1.1.6                hb9d3cd8_0    conda-forge\n",
      "xorg-libxdmcp             1.1.5                hb9d3cd8_0    conda-forge\n",
      "xorg-libxext              1.3.6                hb9d3cd8_0    conda-forge\n",
      "xorg-libxfixes            6.0.1                hb9d3cd8_0    conda-forge\n",
      "xorg-libxi                1.8.2                hb9d3cd8_0    conda-forge\n",
      "xorg-libxrandr            1.5.4                hb9d3cd8_0    conda-forge\n",
      "xorg-libxrender           0.9.12               hb9d3cd8_0    conda-forge\n",
      "xorg-libxt                1.3.1                hb9d3cd8_0    conda-forge\n",
      "xorg-libxtst              1.2.5                hb9d3cd8_3    conda-forge\n",
      "xorg-libxxf86vm           1.1.6                hb9d3cd8_0    conda-forge\n",
      "xz                        5.8.1                hbcc6ac9_1    conda-forge\n",
      "xz-gpl-tools              5.8.1                hbcc6ac9_1    conda-forge\n",
      "xz-tools                  5.8.1                hb9d3cd8_1    conda-forge\n",
      "yaml                      0.2.5                h7f98852_2    conda-forge\n",
      "zeromq                    4.3.5                h3b0a872_7    conda-forge\n",
      "zipp                      3.21.0             pyhd8ed1ab_1    conda-forge\n",
      "zlib                      1.3.1                hb9d3cd8_2    conda-forge\n",
      "zstandard                 0.23.0          py310ha75aee5_2    conda-forge\n",
      "zstd                      1.5.7                hb8e6e7a_2    conda-forge\n",
      "\n",
      "Note: you may need to restart the kernel to use updated packages.\n"
     ]
    }
   ],
   "source": [
    "conda list"
   ]
  },
  {
   "cell_type": "markdown",
   "id": "00667a62-da05-48f6-b045-3fd354103992",
   "metadata": {
    "editable": true,
    "slideshow": {
     "slide_type": ""
    },
    "tags": []
   },
   "source": [
    "ajee. installed.\n",
    "\n",
    "⚠️ Common Mistakes to Avoid\n",
    "Installing Conda or Jupyter in Windows instead of WSL.\n",
    "\n",
    "Using Jupyter in the wrong kernel/environment.\n",
    "\n",
    "Forgetting to conda activate bioinformaatika0. JUST HAVE TO MAKE SURE TO BE IN bioinformaatika0!!! aka !! \"conda activate bioinformaatika0\""
   ]
  }
 ],
 "metadata": {
  "kernelspec": {
   "display_name": "bioinformaatika0",
   "language": "python",
   "name": "bioinformaatika0"
  },
  "language_info": {
   "codemirror_mode": {
    "name": "ipython",
    "version": 3
   },
   "file_extension": ".py",
   "mimetype": "text/x-python",
   "name": "python",
   "nbconvert_exporter": "python",
   "pygments_lexer": "ipython3",
   "version": "3.10.17"
  }
 },
 "nbformat": 4,
 "nbformat_minor": 5
}
