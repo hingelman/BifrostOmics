{
 "cells": [
  {
   "cell_type": "markdown",
   "id": "e1833eb2-b05a-453d-b351-f95c593d0a9b",
   "metadata": {},
   "source": [
    "🔬 Lesson 6 \n",
    "\n",
    "We’ll:\n",
    "Load count data\n",
    "Create a DESeq2 dataset (dds)\n",
    "Run the DESeq2 workflow (to estimate size factors and dispersions)\n",
    "Save the dds object for future use\n",
    "Perform variance‐stabilizing transform\n",
    "Produce PCA and heatmap plots\n",
    "You can run this in an R script or in an R notebook inside JupyterLab.\n"
   ]
  },
  {
   "cell_type": "code",
   "execution_count": null,
   "id": "8bf24ad8-b559-4c54-bdd6-a780aa18e80e",
   "metadata": {},
   "outputs": [],
   "source": [
    "conda install -c bioconda bioconductor-deseq2 bioconductor-tximport\n",
    "conda install -c conda-forge r-ggplot2 r-pheatmap r-tidyverse"
   ]
  },
  {
   "cell_type": "code",
   "execution_count": null,
   "id": "78e59ec2-7460-4de8-ad14-b401a51931e6",
   "metadata": {},
   "outputs": [],
   "source": []
  }
 ],
 "metadata": {
  "kernelspec": {
   "display_name": "Python 3 (ipykernel)",
   "language": "python",
   "name": "python3"
  },
  "language_info": {
   "codemirror_mode": {
    "name": "ipython",
    "version": 3
   },
   "file_extension": ".py",
   "mimetype": "text/x-python",
   "name": "python",
   "nbconvert_exporter": "python",
   "pygments_lexer": "ipython3",
   "version": "3.10.17"
  }
 },
 "nbformat": 4,
 "nbformat_minor": 5
}
